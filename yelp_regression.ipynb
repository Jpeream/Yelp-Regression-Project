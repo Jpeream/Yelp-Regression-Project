{
  "cells": [
    {
      "cell_type": "markdown",
      "metadata": {
        "id": "N4J1SfuUiyEq"
      },
      "source": [
        "# Project: Yelp Rating Regression Predictor\n",
        "\n",
        "The restaurant industry is tougher than ever, with restaurant reviews blazing across the Internet from day one of a restaurant's opening. But as a lover of food, you and your friend decide to break into the industry and open up your own restaurant, Danielle's Delicious Delicacies. Since a restaurant's success is highly correlated with its reputation, you want to make sure Danielle's Delicious Delicacies has the best reviews on the most queried restaurant review site: Yelp! While you know your food will be delicious, you think there are other factors that play into a Yelp rating and will ultimately determine your business's success. With a dataset of different restaurant features and their Yelp ratings, you decide to use a Multiple Linear Regression model to investigate what factors most affect a restaurant's Yelp rating and predict the Yelp rating for your restaurant!\n",
        "\n",
        "In this project we'll be working with a real dataset provided by Yelp. We have provided six files, listed below with a brief description:\n",
        "* `yelp_business.json`: establishment data regarding location and attributes for all businesses in the dataset\n",
        "* `yelp_review.json`: Yelp review metadata by business\n",
        "* `yelp_user.json`: user profile metadata by business\n",
        "* `yelp_checkin.json`: online checkin metadata by business\n",
        "* `yelp_tip.json`: tip metadata by business\n",
        "* `yelp_photo.json`: photo metadata by business\n",
        "\n",
        "For a more detailed explanation of the features in each `.json` file, see the accompanying [explanatory feature document](https://docs.google.com/document/d/1V6FjJpKspVBOOBs4E7fBfp_yzHn0--XJkC2uUtWuRgM/edit).\n",
        "\n",
        "Let's get started by exploring the data in each of these files to see what we are working with."
      ]
    },
    {
      "cell_type": "markdown",
      "metadata": {
        "id": "JiS4TLGziyEs"
      },
      "source": [
        "## Load the Data and Take a Peek\n",
        "\n",
        "To get a better understanding of the dataset we can use Pandas to explore the data in DataFrame form. In the code block below we have imported Pandas for you. The `read_json()` method reads data from a json file into a DataFrame, as shown below:\n",
        "```python\n",
        "df = pd.read_json('file_name.json', lines=True)\n",
        "```\n",
        "Load the data from each of the json files with the following naming conventions:\n",
        "* `yelp_business.json` into a DataFrame named `businesses`\n",
        "* `yelp_review.json` into a DataFrame named `reviews`\n",
        "* `yelp_user.json` into a DataFrame named `users`\n",
        "* `yelp_checkin.json` into a DataFrame named `checkins`\n",
        "* `yelp_tip.json` into a DataFrame named `tips`\n",
        "* `yelp_photo.json` into a DataFrame named `photos`\n",
        "\n",
        "Importing that data could take 10 to 20 seconds to run depending on your computer, but don't worry, once it's loaded in you're ready to go!"
      ]
    },
    {
      "cell_type": "code",
      "execution_count": null,
      "metadata": {
        "id": "iRSV00sSiyEt"
      },
      "outputs": [],
      "source": [
        "import pandas as pd\n",
        "\n",
        "business = pd.read_json('yelp_business.json', lines=True)\n",
        "review = pd.read_json('yelp_review.json', lines=True)\n",
        "user = pd.read_json('yelp_user.json', lines=True)\n",
        "checkin = pd.read_json('yelp_checkin.json', lines=True)\n",
        "tip = pd.read_json('yelp_tip.json', lines=True)\n",
        "photo = pd.read_json('yelp_photo.json', lines=True)"
      ]
    },
    {
      "cell_type": "markdown",
      "metadata": {
        "id": "u6H4q4QWiyEu"
      },
      "source": [
        "In order to more clearly see the information in our DataFrame, we can adjust the number of columns shown (`max_columns`) and the number of characters shown in a column (`max_colwidth`) with the below code:\n",
        "\n",
        "```python\n",
        "pd.options.display.max_columns = number_of_columns_to_display\n",
        "pd.options.display.max_colwidth = number_of_characters_to_display\n",
        "```\n",
        "\n",
        "Set `max_columns` to `60` and `max_colwidth` to `500`. We are working with some BIG data here!"
      ]
    },
    {
      "cell_type": "code",
      "execution_count": null,
      "metadata": {
        "ExecuteTime": {
          "end_time": "2018-09-14T14:51:21.351977Z",
          "start_time": "2018-09-14T14:51:21.349551Z"
        },
        "id": "ggniMQdCiyEu"
      },
      "outputs": [],
      "source": [
        "pd.options.display.max_columns = 60\n",
        "pd.options.display.max_colwidth = 500"
      ]
    },
    {
      "cell_type": "markdown",
      "metadata": {
        "id": "UQwB7JhgiyEy"
      },
      "source": [
        "Inspect the first five rows of each DataFrame using the `.head()` method to get an overview of the data (make sure to check each DataFrame in a separate cell in order to view it properly)."
      ]
    },
    {
      "cell_type": "code",
      "execution_count": null,
      "metadata": {
        "ExecuteTime": {
          "end_time": "2018-09-14T14:51:21.392763Z",
          "start_time": "2018-09-14T14:51:21.354525Z"
        },
        "scrolled": true,
        "id": "L3RxyhO1iyEy",
        "colab": {
          "base_uri": "https://localhost:8080/",
          "height": 1000
        },
        "outputId": "670d898f-f2db-49cd-c233-3a87ce713a0f"
      },
      "outputs": [
        {
          "output_type": "execute_result",
          "data": {
            "text/html": [
              "\n",
              "  <div id=\"df-8c06cd2c-e64b-4566-b732-5380fc9938b5\">\n",
              "    <div class=\"colab-df-container\">\n",
              "      <div>\n",
              "<style scoped>\n",
              "    .dataframe tbody tr th:only-of-type {\n",
              "        vertical-align: middle;\n",
              "    }\n",
              "\n",
              "    .dataframe tbody tr th {\n",
              "        vertical-align: top;\n",
              "    }\n",
              "\n",
              "    .dataframe thead th {\n",
              "        text-align: right;\n",
              "    }\n",
              "</style>\n",
              "<table border=\"1\" class=\"dataframe\">\n",
              "  <thead>\n",
              "    <tr style=\"text-align: right;\">\n",
              "      <th></th>\n",
              "      <th>address</th>\n",
              "      <th>alcohol?</th>\n",
              "      <th>attributes</th>\n",
              "      <th>business_id</th>\n",
              "      <th>categories</th>\n",
              "      <th>city</th>\n",
              "      <th>good_for_kids</th>\n",
              "      <th>has_bike_parking</th>\n",
              "      <th>has_wifi</th>\n",
              "      <th>hours</th>\n",
              "      <th>is_open</th>\n",
              "      <th>latitude</th>\n",
              "      <th>longitude</th>\n",
              "      <th>name</th>\n",
              "      <th>neighborhood</th>\n",
              "      <th>postal_code</th>\n",
              "      <th>price_range</th>\n",
              "      <th>review_count</th>\n",
              "      <th>stars</th>\n",
              "      <th>state</th>\n",
              "      <th>take_reservations</th>\n",
              "      <th>takes_credit_cards</th>\n",
              "    </tr>\n",
              "  </thead>\n",
              "  <tbody>\n",
              "    <tr>\n",
              "      <th>0</th>\n",
              "      <td>1314 44 Avenue NE</td>\n",
              "      <td>0</td>\n",
              "      <td>{'BikeParking': 'False', 'BusinessAcceptsCreditCards': 'True', 'BusinessParking': '{'garage': False, 'street': True, 'validated': False, 'lot': False, 'valet': False}', 'GoodForKids': 'True', 'HasTV': 'True', 'NoiseLevel': 'average', 'OutdoorSeating': 'False', 'RestaurantsAttire': 'casual', 'RestaurantsDelivery': 'False', 'RestaurantsGoodForGroups': 'True', 'RestaurantsPriceRange2': '2', 'RestaurantsReservations': 'True', 'RestaurantsTakeOut': 'True'}</td>\n",
              "      <td>Apn5Q_b6Nz61Tq4XzPdf9A</td>\n",
              "      <td>Tours, Breweries, Pizza, Restaurants, Food, Hotels &amp; Travel</td>\n",
              "      <td>Calgary</td>\n",
              "      <td>1</td>\n",
              "      <td>0</td>\n",
              "      <td>0</td>\n",
              "      <td>{'Monday': '8:30-17:0', 'Tuesday': '11:0-21:0', 'Wednesday': '11:0-21:0', 'Thursday': '11:0-21:0', 'Friday': '11:0-21:0', 'Saturday': '11:0-21:0'}</td>\n",
              "      <td>1</td>\n",
              "      <td>51.091813</td>\n",
              "      <td>-114.031675</td>\n",
              "      <td>Minhas Micro Brewery</td>\n",
              "      <td></td>\n",
              "      <td>T2E 6L6</td>\n",
              "      <td>2</td>\n",
              "      <td>24</td>\n",
              "      <td>4.0</td>\n",
              "      <td>AB</td>\n",
              "      <td>1</td>\n",
              "      <td>1</td>\n",
              "    </tr>\n",
              "    <tr>\n",
              "      <th>1</th>\n",
              "      <td></td>\n",
              "      <td>0</td>\n",
              "      <td>{'Alcohol': 'none', 'BikeParking': 'False', 'BusinessAcceptsCreditCards': 'True', 'BusinessParking': '{'garage': False, 'street': True, 'validated': False, 'lot': True, 'valet': False}', 'Caters': 'True', 'DogsAllowed': 'True', 'DriveThru': 'False', 'GoodForKids': 'True', 'GoodForMeal': '{'dessert': False, 'latenight': False, 'lunch': False, 'dinner': False, 'breakfast': False, 'brunch': False}', 'HasTV': 'False', 'OutdoorSeating': 'True', 'RestaurantsAttire': 'casual', 'RestaurantsDelivery'...</td>\n",
              "      <td>AjEbIBw6ZFfln7ePHha9PA</td>\n",
              "      <td>Chicken Wings, Burgers, Caterers, Street Vendors, Barbeque, Food Trucks, Food, Restaurants, Event Planning &amp; Services</td>\n",
              "      <td>Henderson</td>\n",
              "      <td>1</td>\n",
              "      <td>0</td>\n",
              "      <td>0</td>\n",
              "      <td>{'Friday': '17:0-23:0', 'Saturday': '17:0-23:0', 'Sunday': '17:0-23:0'}</td>\n",
              "      <td>0</td>\n",
              "      <td>35.960734</td>\n",
              "      <td>-114.939821</td>\n",
              "      <td>CK'S BBQ &amp; Catering</td>\n",
              "      <td></td>\n",
              "      <td>89002</td>\n",
              "      <td>2</td>\n",
              "      <td>3</td>\n",
              "      <td>4.5</td>\n",
              "      <td>NV</td>\n",
              "      <td>0</td>\n",
              "      <td>1</td>\n",
              "    </tr>\n",
              "    <tr>\n",
              "      <th>2</th>\n",
              "      <td>1335 rue Beaubien E</td>\n",
              "      <td>1</td>\n",
              "      <td>{'Alcohol': 'beer_and_wine', 'Ambience': '{'romantic': False, 'intimate': False, 'classy': False, 'hipster': False, 'touristy': False, 'trendy': False, 'upscale': False, 'casual': False}', 'BikeParking': 'True', 'BusinessAcceptsCreditCards': 'False', 'BusinessParking': '{'garage': False, 'street': False, 'validated': False, 'lot': False, 'valet': False}', 'Caters': 'False', 'GoodForKids': 'True', 'GoodForMeal': '{'dessert': False, 'latenight': False, 'lunch': False, 'dinner': False, 'breakfa...</td>\n",
              "      <td>O8S5hYJ1SMc8fA4QBtVujA</td>\n",
              "      <td>Breakfast &amp; Brunch, Restaurants, French, Sandwiches, Cafes</td>\n",
              "      <td>Montréal</td>\n",
              "      <td>1</td>\n",
              "      <td>1</td>\n",
              "      <td>1</td>\n",
              "      <td>{'Monday': '10:0-22:0', 'Tuesday': '10:0-22:0', 'Wednesday': '10:0-22:0', 'Thursday': '10:0-22:0', 'Friday': '10:0-22:0', 'Saturday': '10:0-22:0', 'Sunday': '10:0-22:0'}</td>\n",
              "      <td>0</td>\n",
              "      <td>45.540503</td>\n",
              "      <td>-73.599300</td>\n",
              "      <td>La Bastringue</td>\n",
              "      <td>Rosemont-La Petite-Patrie</td>\n",
              "      <td>H2G 1K7</td>\n",
              "      <td>2</td>\n",
              "      <td>5</td>\n",
              "      <td>4.0</td>\n",
              "      <td>QC</td>\n",
              "      <td>1</td>\n",
              "      <td>0</td>\n",
              "    </tr>\n",
              "    <tr>\n",
              "      <th>3</th>\n",
              "      <td>211 W Monroe St</td>\n",
              "      <td>0</td>\n",
              "      <td>None</td>\n",
              "      <td>bFzdJJ3wp3PZssNEsyU23g</td>\n",
              "      <td>Insurance, Financial Services</td>\n",
              "      <td>Phoenix</td>\n",
              "      <td>0</td>\n",
              "      <td>0</td>\n",
              "      <td>0</td>\n",
              "      <td>None</td>\n",
              "      <td>1</td>\n",
              "      <td>33.449999</td>\n",
              "      <td>-112.076979</td>\n",
              "      <td>Geico Insurance</td>\n",
              "      <td></td>\n",
              "      <td>85003</td>\n",
              "      <td>0</td>\n",
              "      <td>8</td>\n",
              "      <td>1.5</td>\n",
              "      <td>AZ</td>\n",
              "      <td>0</td>\n",
              "      <td>0</td>\n",
              "    </tr>\n",
              "    <tr>\n",
              "      <th>4</th>\n",
              "      <td>2005 Alyth Place SE</td>\n",
              "      <td>0</td>\n",
              "      <td>{'BusinessAcceptsCreditCards': 'True'}</td>\n",
              "      <td>8USyCYqpScwiNEb58Bt6CA</td>\n",
              "      <td>Home &amp; Garden, Nurseries &amp; Gardening, Shopping, Local Services, Automotive, Electronics Repair</td>\n",
              "      <td>Calgary</td>\n",
              "      <td>0</td>\n",
              "      <td>0</td>\n",
              "      <td>0</td>\n",
              "      <td>{'Monday': '8:0-17:0', 'Tuesday': '8:0-17:0', 'Wednesday': '8:0-17:0', 'Thursday': '8:0-17:0', 'Friday': '8:0-17:0'}</td>\n",
              "      <td>1</td>\n",
              "      <td>51.035591</td>\n",
              "      <td>-114.027366</td>\n",
              "      <td>Action Engine</td>\n",
              "      <td></td>\n",
              "      <td>T2H 0N5</td>\n",
              "      <td>0</td>\n",
              "      <td>4</td>\n",
              "      <td>2.0</td>\n",
              "      <td>AB</td>\n",
              "      <td>0</td>\n",
              "      <td>1</td>\n",
              "    </tr>\n",
              "    <tr>\n",
              "      <th>5</th>\n",
              "      <td>20235 N Cave Creek Rd, Ste 1115</td>\n",
              "      <td>0</td>\n",
              "      <td>{'BikeParking': 'True', 'BusinessAcceptsCreditCards': 'True', 'BusinessParking': '{'garage': False, 'street': False, 'validated': False, 'lot': True, 'valet': False}', 'Caters': 'False', 'OutdoorSeating': 'True', 'RestaurantsPriceRange2': '1', 'RestaurantsTakeOut': 'True', 'WheelchairAccessible': 'True', 'WiFi': 'free'}</td>\n",
              "      <td>45bWSZtniwPRiqlivpS8Og</td>\n",
              "      <td>Coffee &amp; Tea, Food</td>\n",
              "      <td>Phoenix</td>\n",
              "      <td>0</td>\n",
              "      <td>1</td>\n",
              "      <td>1</td>\n",
              "      <td>{'Monday': '5:30-20:0', 'Tuesday': '5:30-20:0', 'Wednesday': '5:30-20:0', 'Thursday': '5:30-20:0', 'Friday': '5:30-21:0', 'Saturday': '5:30-21:0', 'Sunday': '6:30-19:0'}</td>\n",
              "      <td>1</td>\n",
              "      <td>33.671375</td>\n",
              "      <td>-112.030017</td>\n",
              "      <td>The Coffee Bean &amp; Tea Leaf</td>\n",
              "      <td></td>\n",
              "      <td>85024</td>\n",
              "      <td>1</td>\n",
              "      <td>63</td>\n",
              "      <td>4.0</td>\n",
              "      <td>AZ</td>\n",
              "      <td>0</td>\n",
              "      <td>1</td>\n",
              "    </tr>\n",
              "    <tr>\n",
              "      <th>6</th>\n",
              "      <td>631 Bloor St W</td>\n",
              "      <td>0</td>\n",
              "      <td>{'BusinessParking': '{'garage': False, 'street': False, 'validated': False, 'lot': False, 'valet': False}', 'RestaurantsPriceRange2': '1'}</td>\n",
              "      <td>9A2quhZLyWk0akUetBd8hQ</td>\n",
              "      <td>Food, Bakeries</td>\n",
              "      <td>Toronto</td>\n",
              "      <td>0</td>\n",
              "      <td>0</td>\n",
              "      <td>0</td>\n",
              "      <td>None</td>\n",
              "      <td>0</td>\n",
              "      <td>43.664378</td>\n",
              "      <td>-79.414424</td>\n",
              "      <td>Bnc Cake House</td>\n",
              "      <td>Koreatown</td>\n",
              "      <td>M6G 1K8</td>\n",
              "      <td>1</td>\n",
              "      <td>7</td>\n",
              "      <td>4.0</td>\n",
              "      <td>ON</td>\n",
              "      <td>0</td>\n",
              "      <td>0</td>\n",
              "    </tr>\n",
              "    <tr>\n",
              "      <th>7</th>\n",
              "      <td>3417 Derry Road E, Unit 103</td>\n",
              "      <td>0</td>\n",
              "      <td>{'Alcohol': 'none', 'BusinessAcceptsCreditCards': 'True', 'BusinessParking': '{'garage': False, 'street': False, 'validated': False, 'lot': False, 'valet': False}', 'GoodForKids': 'True', 'OutdoorSeating': 'False', 'RestaurantsAttire': 'casual', 'RestaurantsGoodForGroups': 'True', 'RestaurantsPriceRange2': '2', 'RestaurantsTableService': 'False', 'RestaurantsTakeOut': 'True'}</td>\n",
              "      <td>6OuOZAok8ikONMS_T3EzXg</td>\n",
              "      <td>Restaurants, Thai</td>\n",
              "      <td>Mississauga</td>\n",
              "      <td>1</td>\n",
              "      <td>0</td>\n",
              "      <td>0</td>\n",
              "      <td>None</td>\n",
              "      <td>1</td>\n",
              "      <td>43.712946</td>\n",
              "      <td>-79.632763</td>\n",
              "      <td>Thai One On</td>\n",
              "      <td>Ridgewood</td>\n",
              "      <td>L4T 1A8</td>\n",
              "      <td>2</td>\n",
              "      <td>7</td>\n",
              "      <td>2.0</td>\n",
              "      <td>ON</td>\n",
              "      <td>0</td>\n",
              "      <td>1</td>\n",
              "    </tr>\n",
              "    <tr>\n",
              "      <th>8</th>\n",
              "      <td>1440 N. Dysart Ave</td>\n",
              "      <td>0</td>\n",
              "      <td>{'Alcohol': 'none', 'Ambience': '{'romantic': False, 'intimate': False, 'classy': False, 'hipster': False, 'divey': False, 'touristy': False, 'trendy': False, 'upscale': False, 'casual': True}', 'BikeParking': 'True', 'BusinessAcceptsCreditCards': 'True', 'BusinessParking': '{'garage': False, 'street': False, 'validated': False, 'lot': True, 'valet': False}', 'Caters': 'False', 'GoodForKids': 'True', 'GoodForMeal': '{'dessert': False, 'latenight': True, 'lunch': False, 'dinner': False, 'brea...</td>\n",
              "      <td>8-NRKkPY1UiFXW20WXKiXg</td>\n",
              "      <td>Mexican, Restaurants</td>\n",
              "      <td>Avondale</td>\n",
              "      <td>1</td>\n",
              "      <td>1</td>\n",
              "      <td>0</td>\n",
              "      <td>{'Monday': '0:0-0:0', 'Tuesday': '0:0-0:0', 'Wednesday': '0:0-0:0', 'Thursday': '0:0-0:0', 'Friday': '0:0-0:0', 'Saturday': '0:0-0:0', 'Sunday': '0:0-0:0'}</td>\n",
              "      <td>1</td>\n",
              "      <td>33.448106</td>\n",
              "      <td>-112.341302</td>\n",
              "      <td>Filiberto's Mexican Food</td>\n",
              "      <td></td>\n",
              "      <td>85323</td>\n",
              "      <td>1</td>\n",
              "      <td>40</td>\n",
              "      <td>2.5</td>\n",
              "      <td>AZ</td>\n",
              "      <td>0</td>\n",
              "      <td>1</td>\n",
              "    </tr>\n",
              "    <tr>\n",
              "      <th>9</th>\n",
              "      <td>209 Oakland Ave</td>\n",
              "      <td>0</td>\n",
              "      <td>{'BikeParking': 'True', 'BusinessAcceptsCreditCards': 'True', 'BusinessParking': '{'garage': False, 'street': False, 'validated': False, 'lot': False, 'valet': False}', 'RestaurantsPriceRange2': '2'}</td>\n",
              "      <td>UTm5QZThPQlT35mkAcGOjg</td>\n",
              "      <td>Flowers &amp; Gifts, Gift Shops, Shopping</td>\n",
              "      <td>Pittsburgh</td>\n",
              "      <td>0</td>\n",
              "      <td>1</td>\n",
              "      <td>0</td>\n",
              "      <td>{'Monday': '9:0-18:0', 'Tuesday': '9:0-18:0', 'Wednesday': '9:0-18:0', 'Thursday': '9:0-18:0', 'Friday': '9:0-17:0', 'Saturday': '10:0-17:0'}</td>\n",
              "      <td>1</td>\n",
              "      <td>40.441421</td>\n",
              "      <td>-79.956457</td>\n",
              "      <td>Maggie &amp; Stella's Gifts</td>\n",
              "      <td>Oakland</td>\n",
              "      <td>15213</td>\n",
              "      <td>2</td>\n",
              "      <td>3</td>\n",
              "      <td>3.5</td>\n",
              "      <td>PA</td>\n",
              "      <td>0</td>\n",
              "      <td>1</td>\n",
              "    </tr>\n",
              "  </tbody>\n",
              "</table>\n",
              "</div>\n",
              "      <button class=\"colab-df-convert\" onclick=\"convertToInteractive('df-8c06cd2c-e64b-4566-b732-5380fc9938b5')\"\n",
              "              title=\"Convert this dataframe to an interactive table.\"\n",
              "              style=\"display:none;\">\n",
              "        \n",
              "  <svg xmlns=\"http://www.w3.org/2000/svg\" height=\"24px\"viewBox=\"0 0 24 24\"\n",
              "       width=\"24px\">\n",
              "    <path d=\"M0 0h24v24H0V0z\" fill=\"none\"/>\n",
              "    <path d=\"M18.56 5.44l.94 2.06.94-2.06 2.06-.94-2.06-.94-.94-2.06-.94 2.06-2.06.94zm-11 1L8.5 8.5l.94-2.06 2.06-.94-2.06-.94L8.5 2.5l-.94 2.06-2.06.94zm10 10l.94 2.06.94-2.06 2.06-.94-2.06-.94-.94-2.06-.94 2.06-2.06.94z\"/><path d=\"M17.41 7.96l-1.37-1.37c-.4-.4-.92-.59-1.43-.59-.52 0-1.04.2-1.43.59L10.3 9.45l-7.72 7.72c-.78.78-.78 2.05 0 2.83L4 21.41c.39.39.9.59 1.41.59.51 0 1.02-.2 1.41-.59l7.78-7.78 2.81-2.81c.8-.78.8-2.07 0-2.86zM5.41 20L4 18.59l7.72-7.72 1.47 1.35L5.41 20z\"/>\n",
              "  </svg>\n",
              "      </button>\n",
              "      \n",
              "  <style>\n",
              "    .colab-df-container {\n",
              "      display:flex;\n",
              "      flex-wrap:wrap;\n",
              "      gap: 12px;\n",
              "    }\n",
              "\n",
              "    .colab-df-convert {\n",
              "      background-color: #E8F0FE;\n",
              "      border: none;\n",
              "      border-radius: 50%;\n",
              "      cursor: pointer;\n",
              "      display: none;\n",
              "      fill: #1967D2;\n",
              "      height: 32px;\n",
              "      padding: 0 0 0 0;\n",
              "      width: 32px;\n",
              "    }\n",
              "\n",
              "    .colab-df-convert:hover {\n",
              "      background-color: #E2EBFA;\n",
              "      box-shadow: 0px 1px 2px rgba(60, 64, 67, 0.3), 0px 1px 3px 1px rgba(60, 64, 67, 0.15);\n",
              "      fill: #174EA6;\n",
              "    }\n",
              "\n",
              "    [theme=dark] .colab-df-convert {\n",
              "      background-color: #3B4455;\n",
              "      fill: #D2E3FC;\n",
              "    }\n",
              "\n",
              "    [theme=dark] .colab-df-convert:hover {\n",
              "      background-color: #434B5C;\n",
              "      box-shadow: 0px 1px 3px 1px rgba(0, 0, 0, 0.15);\n",
              "      filter: drop-shadow(0px 1px 2px rgba(0, 0, 0, 0.3));\n",
              "      fill: #FFFFFF;\n",
              "    }\n",
              "  </style>\n",
              "\n",
              "      <script>\n",
              "        const buttonEl =\n",
              "          document.querySelector('#df-8c06cd2c-e64b-4566-b732-5380fc9938b5 button.colab-df-convert');\n",
              "        buttonEl.style.display =\n",
              "          google.colab.kernel.accessAllowed ? 'block' : 'none';\n",
              "\n",
              "        async function convertToInteractive(key) {\n",
              "          const element = document.querySelector('#df-8c06cd2c-e64b-4566-b732-5380fc9938b5');\n",
              "          const dataTable =\n",
              "            await google.colab.kernel.invokeFunction('convertToInteractive',\n",
              "                                                     [key], {});\n",
              "          if (!dataTable) return;\n",
              "\n",
              "          const docLinkHtml = 'Like what you see? Visit the ' +\n",
              "            '<a target=\"_blank\" href=https://colab.research.google.com/notebooks/data_table.ipynb>data table notebook</a>'\n",
              "            + ' to learn more about interactive tables.';\n",
              "          element.innerHTML = '';\n",
              "          dataTable['output_type'] = 'display_data';\n",
              "          await google.colab.output.renderOutput(dataTable, element);\n",
              "          const docLink = document.createElement('div');\n",
              "          docLink.innerHTML = docLinkHtml;\n",
              "          element.appendChild(docLink);\n",
              "        }\n",
              "      </script>\n",
              "    </div>\n",
              "  </div>\n",
              "  "
            ],
            "text/plain": [
              "                           address  alcohol?  \\\n",
              "0                1314 44 Avenue NE         0   \n",
              "1                                          0   \n",
              "2              1335 rue Beaubien E         1   \n",
              "3                  211 W Monroe St         0   \n",
              "4              2005 Alyth Place SE         0   \n",
              "5  20235 N Cave Creek Rd, Ste 1115         0   \n",
              "6                   631 Bloor St W         0   \n",
              "7      3417 Derry Road E, Unit 103         0   \n",
              "8               1440 N. Dysart Ave         0   \n",
              "9                  209 Oakland Ave         0   \n",
              "\n",
              "                                                                                                                                                                                                                                                                                                                                                                                                                                                                                                            attributes  \\\n",
              "0                                              {'BikeParking': 'False', 'BusinessAcceptsCreditCards': 'True', 'BusinessParking': '{'garage': False, 'street': True, 'validated': False, 'lot': False, 'valet': False}', 'GoodForKids': 'True', 'HasTV': 'True', 'NoiseLevel': 'average', 'OutdoorSeating': 'False', 'RestaurantsAttire': 'casual', 'RestaurantsDelivery': 'False', 'RestaurantsGoodForGroups': 'True', 'RestaurantsPriceRange2': '2', 'RestaurantsReservations': 'True', 'RestaurantsTakeOut': 'True'}   \n",
              "1  {'Alcohol': 'none', 'BikeParking': 'False', 'BusinessAcceptsCreditCards': 'True', 'BusinessParking': '{'garage': False, 'street': True, 'validated': False, 'lot': True, 'valet': False}', 'Caters': 'True', 'DogsAllowed': 'True', 'DriveThru': 'False', 'GoodForKids': 'True', 'GoodForMeal': '{'dessert': False, 'latenight': False, 'lunch': False, 'dinner': False, 'breakfast': False, 'brunch': False}', 'HasTV': 'False', 'OutdoorSeating': 'True', 'RestaurantsAttire': 'casual', 'RestaurantsDelivery'...   \n",
              "2  {'Alcohol': 'beer_and_wine', 'Ambience': '{'romantic': False, 'intimate': False, 'classy': False, 'hipster': False, 'touristy': False, 'trendy': False, 'upscale': False, 'casual': False}', 'BikeParking': 'True', 'BusinessAcceptsCreditCards': 'False', 'BusinessParking': '{'garage': False, 'street': False, 'validated': False, 'lot': False, 'valet': False}', 'Caters': 'False', 'GoodForKids': 'True', 'GoodForMeal': '{'dessert': False, 'latenight': False, 'lunch': False, 'dinner': False, 'breakfa...   \n",
              "3                                                                                                                                                                                                                                                                                                                                                                                                                                                                                                                 None   \n",
              "4                                                                                                                                                                                                                                                                                                                                                                                                                                                                               {'BusinessAcceptsCreditCards': 'True'}   \n",
              "5                                                                                                                                                                                    {'BikeParking': 'True', 'BusinessAcceptsCreditCards': 'True', 'BusinessParking': '{'garage': False, 'street': False, 'validated': False, 'lot': True, 'valet': False}', 'Caters': 'False', 'OutdoorSeating': 'True', 'RestaurantsPriceRange2': '1', 'RestaurantsTakeOut': 'True', 'WheelchairAccessible': 'True', 'WiFi': 'free'}   \n",
              "6                                                                                                                                                                                                                                                                                                                                                                           {'BusinessParking': '{'garage': False, 'street': False, 'validated': False, 'lot': False, 'valet': False}', 'RestaurantsPriceRange2': '1'}   \n",
              "7                                                                                                                           {'Alcohol': 'none', 'BusinessAcceptsCreditCards': 'True', 'BusinessParking': '{'garage': False, 'street': False, 'validated': False, 'lot': False, 'valet': False}', 'GoodForKids': 'True', 'OutdoorSeating': 'False', 'RestaurantsAttire': 'casual', 'RestaurantsGoodForGroups': 'True', 'RestaurantsPriceRange2': '2', 'RestaurantsTableService': 'False', 'RestaurantsTakeOut': 'True'}   \n",
              "8  {'Alcohol': 'none', 'Ambience': '{'romantic': False, 'intimate': False, 'classy': False, 'hipster': False, 'divey': False, 'touristy': False, 'trendy': False, 'upscale': False, 'casual': True}', 'BikeParking': 'True', 'BusinessAcceptsCreditCards': 'True', 'BusinessParking': '{'garage': False, 'street': False, 'validated': False, 'lot': True, 'valet': False}', 'Caters': 'False', 'GoodForKids': 'True', 'GoodForMeal': '{'dessert': False, 'latenight': True, 'lunch': False, 'dinner': False, 'brea...   \n",
              "9                                                                                                                                                                                                                                                                                                              {'BikeParking': 'True', 'BusinessAcceptsCreditCards': 'True', 'BusinessParking': '{'garage': False, 'street': False, 'validated': False, 'lot': False, 'valet': False}', 'RestaurantsPriceRange2': '2'}   \n",
              "\n",
              "              business_id  \\\n",
              "0  Apn5Q_b6Nz61Tq4XzPdf9A   \n",
              "1  AjEbIBw6ZFfln7ePHha9PA   \n",
              "2  O8S5hYJ1SMc8fA4QBtVujA   \n",
              "3  bFzdJJ3wp3PZssNEsyU23g   \n",
              "4  8USyCYqpScwiNEb58Bt6CA   \n",
              "5  45bWSZtniwPRiqlivpS8Og   \n",
              "6  9A2quhZLyWk0akUetBd8hQ   \n",
              "7  6OuOZAok8ikONMS_T3EzXg   \n",
              "8  8-NRKkPY1UiFXW20WXKiXg   \n",
              "9  UTm5QZThPQlT35mkAcGOjg   \n",
              "\n",
              "                                                                                                              categories  \\\n",
              "0                                                            Tours, Breweries, Pizza, Restaurants, Food, Hotels & Travel   \n",
              "1  Chicken Wings, Burgers, Caterers, Street Vendors, Barbeque, Food Trucks, Food, Restaurants, Event Planning & Services   \n",
              "2                                                             Breakfast & Brunch, Restaurants, French, Sandwiches, Cafes   \n",
              "3                                                                                          Insurance, Financial Services   \n",
              "4                         Home & Garden, Nurseries & Gardening, Shopping, Local Services, Automotive, Electronics Repair   \n",
              "5                                                                                                     Coffee & Tea, Food   \n",
              "6                                                                                                         Food, Bakeries   \n",
              "7                                                                                                      Restaurants, Thai   \n",
              "8                                                                                                   Mexican, Restaurants   \n",
              "9                                                                                  Flowers & Gifts, Gift Shops, Shopping   \n",
              "\n",
              "          city  good_for_kids  has_bike_parking  has_wifi  \\\n",
              "0      Calgary              1                 0         0   \n",
              "1    Henderson              1                 0         0   \n",
              "2     Montréal              1                 1         1   \n",
              "3      Phoenix              0                 0         0   \n",
              "4      Calgary              0                 0         0   \n",
              "5      Phoenix              0                 1         1   \n",
              "6      Toronto              0                 0         0   \n",
              "7  Mississauga              1                 0         0   \n",
              "8     Avondale              1                 1         0   \n",
              "9   Pittsburgh              0                 1         0   \n",
              "\n",
              "                                                                                                                                                                       hours  \\\n",
              "0                         {'Monday': '8:30-17:0', 'Tuesday': '11:0-21:0', 'Wednesday': '11:0-21:0', 'Thursday': '11:0-21:0', 'Friday': '11:0-21:0', 'Saturday': '11:0-21:0'}   \n",
              "1                                                                                                    {'Friday': '17:0-23:0', 'Saturday': '17:0-23:0', 'Sunday': '17:0-23:0'}   \n",
              "2  {'Monday': '10:0-22:0', 'Tuesday': '10:0-22:0', 'Wednesday': '10:0-22:0', 'Thursday': '10:0-22:0', 'Friday': '10:0-22:0', 'Saturday': '10:0-22:0', 'Sunday': '10:0-22:0'}   \n",
              "3                                                                                                                                                                       None   \n",
              "4                                                       {'Monday': '8:0-17:0', 'Tuesday': '8:0-17:0', 'Wednesday': '8:0-17:0', 'Thursday': '8:0-17:0', 'Friday': '8:0-17:0'}   \n",
              "5  {'Monday': '5:30-20:0', 'Tuesday': '5:30-20:0', 'Wednesday': '5:30-20:0', 'Thursday': '5:30-20:0', 'Friday': '5:30-21:0', 'Saturday': '5:30-21:0', 'Sunday': '6:30-19:0'}   \n",
              "6                                                                                                                                                                       None   \n",
              "7                                                                                                                                                                       None   \n",
              "8                {'Monday': '0:0-0:0', 'Tuesday': '0:0-0:0', 'Wednesday': '0:0-0:0', 'Thursday': '0:0-0:0', 'Friday': '0:0-0:0', 'Saturday': '0:0-0:0', 'Sunday': '0:0-0:0'}   \n",
              "9                              {'Monday': '9:0-18:0', 'Tuesday': '9:0-18:0', 'Wednesday': '9:0-18:0', 'Thursday': '9:0-18:0', 'Friday': '9:0-17:0', 'Saturday': '10:0-17:0'}   \n",
              "\n",
              "   is_open   latitude   longitude                        name  \\\n",
              "0        1  51.091813 -114.031675        Minhas Micro Brewery   \n",
              "1        0  35.960734 -114.939821         CK'S BBQ & Catering   \n",
              "2        0  45.540503  -73.599300               La Bastringue   \n",
              "3        1  33.449999 -112.076979             Geico Insurance   \n",
              "4        1  51.035591 -114.027366               Action Engine   \n",
              "5        1  33.671375 -112.030017  The Coffee Bean & Tea Leaf   \n",
              "6        0  43.664378  -79.414424              Bnc Cake House   \n",
              "7        1  43.712946  -79.632763                 Thai One On   \n",
              "8        1  33.448106 -112.341302    Filiberto's Mexican Food   \n",
              "9        1  40.441421  -79.956457     Maggie & Stella's Gifts   \n",
              "\n",
              "                neighborhood postal_code  price_range  review_count  stars  \\\n",
              "0                                T2E 6L6            2            24    4.0   \n",
              "1                                  89002            2             3    4.5   \n",
              "2  Rosemont-La Petite-Patrie     H2G 1K7            2             5    4.0   \n",
              "3                                  85003            0             8    1.5   \n",
              "4                                T2H 0N5            0             4    2.0   \n",
              "5                                  85024            1            63    4.0   \n",
              "6                  Koreatown     M6G 1K8            1             7    4.0   \n",
              "7                  Ridgewood     L4T 1A8            2             7    2.0   \n",
              "8                                  85323            1            40    2.5   \n",
              "9                    Oakland       15213            2             3    3.5   \n",
              "\n",
              "  state  take_reservations  takes_credit_cards  \n",
              "0    AB                  1                   1  \n",
              "1    NV                  0                   1  \n",
              "2    QC                  1                   0  \n",
              "3    AZ                  0                   0  \n",
              "4    AB                  0                   1  \n",
              "5    AZ                  0                   1  \n",
              "6    ON                  0                   0  \n",
              "7    ON                  0                   1  \n",
              "8    AZ                  0                   1  \n",
              "9    PA                  0                   1  "
            ]
          },
          "metadata": {},
          "execution_count": 54
        }
      ],
      "source": [
        "business.head(10)"
      ]
    },
    {
      "cell_type": "code",
      "execution_count": null,
      "metadata": {
        "ExecuteTime": {
          "end_time": "2018-09-14T14:51:21.407101Z",
          "start_time": "2018-09-14T14:51:21.394695Z"
        },
        "id": "YjnZMtnTiyEz",
        "colab": {
          "base_uri": "https://localhost:8080/",
          "height": 440
        },
        "outputId": "16b77ad7-9ed5-4fd5-b4d2-db13e0417555"
      },
      "outputs": [
        {
          "output_type": "execute_result",
          "data": {
            "text/html": [
              "\n",
              "  <div id=\"df-17c74679-9660-46b7-b8cf-03e69f338528\">\n",
              "    <div class=\"colab-df-container\">\n",
              "      <div>\n",
              "<style scoped>\n",
              "    .dataframe tbody tr th:only-of-type {\n",
              "        vertical-align: middle;\n",
              "    }\n",
              "\n",
              "    .dataframe tbody tr th {\n",
              "        vertical-align: top;\n",
              "    }\n",
              "\n",
              "    .dataframe thead th {\n",
              "        text-align: right;\n",
              "    }\n",
              "</style>\n",
              "<table border=\"1\" class=\"dataframe\">\n",
              "  <thead>\n",
              "    <tr style=\"text-align: right;\">\n",
              "      <th></th>\n",
              "      <th>business_id</th>\n",
              "      <th>average_review_age</th>\n",
              "      <th>average_review_length</th>\n",
              "      <th>average_review_sentiment</th>\n",
              "      <th>number_funny_votes</th>\n",
              "      <th>number_cool_votes</th>\n",
              "      <th>number_useful_votes</th>\n",
              "    </tr>\n",
              "  </thead>\n",
              "  <tbody>\n",
              "    <tr>\n",
              "      <th>0</th>\n",
              "      <td>--1UhMGODdWsrMastO9DZw</td>\n",
              "      <td>524.458333</td>\n",
              "      <td>466.208333</td>\n",
              "      <td>0.808638</td>\n",
              "      <td>1</td>\n",
              "      <td>16</td>\n",
              "      <td>15</td>\n",
              "    </tr>\n",
              "    <tr>\n",
              "      <th>1</th>\n",
              "      <td>--6MefnULPED_I942VcFNA</td>\n",
              "      <td>1199.589744</td>\n",
              "      <td>785.205128</td>\n",
              "      <td>0.669126</td>\n",
              "      <td>27</td>\n",
              "      <td>32</td>\n",
              "      <td>53</td>\n",
              "    </tr>\n",
              "    <tr>\n",
              "      <th>2</th>\n",
              "      <td>--7zmmkVg-IMGaXbuVd0SQ</td>\n",
              "      <td>717.851852</td>\n",
              "      <td>536.592593</td>\n",
              "      <td>0.820837</td>\n",
              "      <td>29</td>\n",
              "      <td>52</td>\n",
              "      <td>81</td>\n",
              "    </tr>\n",
              "    <tr>\n",
              "      <th>3</th>\n",
              "      <td>--8LPVSo5i0Oo61X01sV9A</td>\n",
              "      <td>751.750000</td>\n",
              "      <td>478.250000</td>\n",
              "      <td>0.170925</td>\n",
              "      <td>0</td>\n",
              "      <td>0</td>\n",
              "      <td>9</td>\n",
              "    </tr>\n",
              "    <tr>\n",
              "      <th>4</th>\n",
              "      <td>--9QQLMTbFzLJ_oT-ON3Xw</td>\n",
              "      <td>978.727273</td>\n",
              "      <td>436.181818</td>\n",
              "      <td>0.562264</td>\n",
              "      <td>3</td>\n",
              "      <td>4</td>\n",
              "      <td>7</td>\n",
              "    </tr>\n",
              "    <tr>\n",
              "      <th>5</th>\n",
              "      <td>--9e1ONYQuAa-CB_Rrw7Tw</td>\n",
              "      <td>1894.995472</td>\n",
              "      <td>801.203105</td>\n",
              "      <td>0.821913</td>\n",
              "      <td>854</td>\n",
              "      <td>1070</td>\n",
              "      <td>1618</td>\n",
              "    </tr>\n",
              "    <tr>\n",
              "      <th>6</th>\n",
              "      <td>--DaPTJW3-tB1vP-PfdTEg</td>\n",
              "      <td>1114.133333</td>\n",
              "      <td>471.155556</td>\n",
              "      <td>0.747916</td>\n",
              "      <td>3</td>\n",
              "      <td>9</td>\n",
              "      <td>17</td>\n",
              "    </tr>\n",
              "    <tr>\n",
              "      <th>7</th>\n",
              "      <td>--DdmeR16TRb3LsjG0ejrQ</td>\n",
              "      <td>1537.600000</td>\n",
              "      <td>2371.400000</td>\n",
              "      <td>0.630100</td>\n",
              "      <td>11</td>\n",
              "      <td>9</td>\n",
              "      <td>13</td>\n",
              "    </tr>\n",
              "    <tr>\n",
              "      <th>8</th>\n",
              "      <td>--EF5N7P70J_UYBTPypYlA</td>\n",
              "      <td>242.200000</td>\n",
              "      <td>504.400000</td>\n",
              "      <td>0.295020</td>\n",
              "      <td>1</td>\n",
              "      <td>2</td>\n",
              "      <td>6</td>\n",
              "    </tr>\n",
              "    <tr>\n",
              "      <th>9</th>\n",
              "      <td>--EX4rRznJrltyn-34Jz1w</td>\n",
              "      <td>1731.750000</td>\n",
              "      <td>524.500000</td>\n",
              "      <td>0.939975</td>\n",
              "      <td>3</td>\n",
              "      <td>3</td>\n",
              "      <td>4</td>\n",
              "    </tr>\n",
              "  </tbody>\n",
              "</table>\n",
              "</div>\n",
              "      <button class=\"colab-df-convert\" onclick=\"convertToInteractive('df-17c74679-9660-46b7-b8cf-03e69f338528')\"\n",
              "              title=\"Convert this dataframe to an interactive table.\"\n",
              "              style=\"display:none;\">\n",
              "        \n",
              "  <svg xmlns=\"http://www.w3.org/2000/svg\" height=\"24px\"viewBox=\"0 0 24 24\"\n",
              "       width=\"24px\">\n",
              "    <path d=\"M0 0h24v24H0V0z\" fill=\"none\"/>\n",
              "    <path d=\"M18.56 5.44l.94 2.06.94-2.06 2.06-.94-2.06-.94-.94-2.06-.94 2.06-2.06.94zm-11 1L8.5 8.5l.94-2.06 2.06-.94-2.06-.94L8.5 2.5l-.94 2.06-2.06.94zm10 10l.94 2.06.94-2.06 2.06-.94-2.06-.94-.94-2.06-.94 2.06-2.06.94z\"/><path d=\"M17.41 7.96l-1.37-1.37c-.4-.4-.92-.59-1.43-.59-.52 0-1.04.2-1.43.59L10.3 9.45l-7.72 7.72c-.78.78-.78 2.05 0 2.83L4 21.41c.39.39.9.59 1.41.59.51 0 1.02-.2 1.41-.59l7.78-7.78 2.81-2.81c.8-.78.8-2.07 0-2.86zM5.41 20L4 18.59l7.72-7.72 1.47 1.35L5.41 20z\"/>\n",
              "  </svg>\n",
              "      </button>\n",
              "      \n",
              "  <style>\n",
              "    .colab-df-container {\n",
              "      display:flex;\n",
              "      flex-wrap:wrap;\n",
              "      gap: 12px;\n",
              "    }\n",
              "\n",
              "    .colab-df-convert {\n",
              "      background-color: #E8F0FE;\n",
              "      border: none;\n",
              "      border-radius: 50%;\n",
              "      cursor: pointer;\n",
              "      display: none;\n",
              "      fill: #1967D2;\n",
              "      height: 32px;\n",
              "      padding: 0 0 0 0;\n",
              "      width: 32px;\n",
              "    }\n",
              "\n",
              "    .colab-df-convert:hover {\n",
              "      background-color: #E2EBFA;\n",
              "      box-shadow: 0px 1px 2px rgba(60, 64, 67, 0.3), 0px 1px 3px 1px rgba(60, 64, 67, 0.15);\n",
              "      fill: #174EA6;\n",
              "    }\n",
              "\n",
              "    [theme=dark] .colab-df-convert {\n",
              "      background-color: #3B4455;\n",
              "      fill: #D2E3FC;\n",
              "    }\n",
              "\n",
              "    [theme=dark] .colab-df-convert:hover {\n",
              "      background-color: #434B5C;\n",
              "      box-shadow: 0px 1px 3px 1px rgba(0, 0, 0, 0.15);\n",
              "      filter: drop-shadow(0px 1px 2px rgba(0, 0, 0, 0.3));\n",
              "      fill: #FFFFFF;\n",
              "    }\n",
              "  </style>\n",
              "\n",
              "      <script>\n",
              "        const buttonEl =\n",
              "          document.querySelector('#df-17c74679-9660-46b7-b8cf-03e69f338528 button.colab-df-convert');\n",
              "        buttonEl.style.display =\n",
              "          google.colab.kernel.accessAllowed ? 'block' : 'none';\n",
              "\n",
              "        async function convertToInteractive(key) {\n",
              "          const element = document.querySelector('#df-17c74679-9660-46b7-b8cf-03e69f338528');\n",
              "          const dataTable =\n",
              "            await google.colab.kernel.invokeFunction('convertToInteractive',\n",
              "                                                     [key], {});\n",
              "          if (!dataTable) return;\n",
              "\n",
              "          const docLinkHtml = 'Like what you see? Visit the ' +\n",
              "            '<a target=\"_blank\" href=https://colab.research.google.com/notebooks/data_table.ipynb>data table notebook</a>'\n",
              "            + ' to learn more about interactive tables.';\n",
              "          element.innerHTML = '';\n",
              "          dataTable['output_type'] = 'display_data';\n",
              "          await google.colab.output.renderOutput(dataTable, element);\n",
              "          const docLink = document.createElement('div');\n",
              "          docLink.innerHTML = docLinkHtml;\n",
              "          element.appendChild(docLink);\n",
              "        }\n",
              "      </script>\n",
              "    </div>\n",
              "  </div>\n",
              "  "
            ],
            "text/plain": [
              "              business_id  average_review_age  average_review_length  \\\n",
              "0  --1UhMGODdWsrMastO9DZw          524.458333             466.208333   \n",
              "1  --6MefnULPED_I942VcFNA         1199.589744             785.205128   \n",
              "2  --7zmmkVg-IMGaXbuVd0SQ          717.851852             536.592593   \n",
              "3  --8LPVSo5i0Oo61X01sV9A          751.750000             478.250000   \n",
              "4  --9QQLMTbFzLJ_oT-ON3Xw          978.727273             436.181818   \n",
              "5  --9e1ONYQuAa-CB_Rrw7Tw         1894.995472             801.203105   \n",
              "6  --DaPTJW3-tB1vP-PfdTEg         1114.133333             471.155556   \n",
              "7  --DdmeR16TRb3LsjG0ejrQ         1537.600000            2371.400000   \n",
              "8  --EF5N7P70J_UYBTPypYlA          242.200000             504.400000   \n",
              "9  --EX4rRznJrltyn-34Jz1w         1731.750000             524.500000   \n",
              "\n",
              "   average_review_sentiment  number_funny_votes  number_cool_votes  \\\n",
              "0                  0.808638                   1                 16   \n",
              "1                  0.669126                  27                 32   \n",
              "2                  0.820837                  29                 52   \n",
              "3                  0.170925                   0                  0   \n",
              "4                  0.562264                   3                  4   \n",
              "5                  0.821913                 854               1070   \n",
              "6                  0.747916                   3                  9   \n",
              "7                  0.630100                  11                  9   \n",
              "8                  0.295020                   1                  2   \n",
              "9                  0.939975                   3                  3   \n",
              "\n",
              "   number_useful_votes  \n",
              "0                   15  \n",
              "1                   53  \n",
              "2                   81  \n",
              "3                    9  \n",
              "4                    7  \n",
              "5                 1618  \n",
              "6                   17  \n",
              "7                   13  \n",
              "8                    6  \n",
              "9                    4  "
            ]
          },
          "metadata": {},
          "execution_count": 55
        }
      ],
      "source": [
        "review.head(10)"
      ]
    },
    {
      "cell_type": "code",
      "execution_count": null,
      "metadata": {
        "ExecuteTime": {
          "end_time": "2018-09-14T14:51:21.419331Z",
          "start_time": "2018-09-14T14:51:21.409377Z"
        },
        "id": "BrNteDaCiyEz",
        "colab": {
          "base_uri": "https://localhost:8080/",
          "height": 440
        },
        "outputId": "2c7340c3-13db-4d27-a54c-16aefc69bbcd"
      },
      "outputs": [
        {
          "output_type": "execute_result",
          "data": {
            "text/html": [
              "\n",
              "  <div id=\"df-73dfa278-6d68-4b27-ac0b-a54f7c3693ca\">\n",
              "    <div class=\"colab-df-container\">\n",
              "      <div>\n",
              "<style scoped>\n",
              "    .dataframe tbody tr th:only-of-type {\n",
              "        vertical-align: middle;\n",
              "    }\n",
              "\n",
              "    .dataframe tbody tr th {\n",
              "        vertical-align: top;\n",
              "    }\n",
              "\n",
              "    .dataframe thead th {\n",
              "        text-align: right;\n",
              "    }\n",
              "</style>\n",
              "<table border=\"1\" class=\"dataframe\">\n",
              "  <thead>\n",
              "    <tr style=\"text-align: right;\">\n",
              "      <th></th>\n",
              "      <th>business_id</th>\n",
              "      <th>average_number_friends</th>\n",
              "      <th>average_days_on_yelp</th>\n",
              "      <th>average_number_fans</th>\n",
              "      <th>average_review_count</th>\n",
              "      <th>average_number_years_elite</th>\n",
              "    </tr>\n",
              "  </thead>\n",
              "  <tbody>\n",
              "    <tr>\n",
              "      <th>0</th>\n",
              "      <td>--1UhMGODdWsrMastO9DZw</td>\n",
              "      <td>18.791667</td>\n",
              "      <td>1789.750000</td>\n",
              "      <td>1.833333</td>\n",
              "      <td>57.541667</td>\n",
              "      <td>0.833333</td>\n",
              "    </tr>\n",
              "    <tr>\n",
              "      <th>1</th>\n",
              "      <td>--6MefnULPED_I942VcFNA</td>\n",
              "      <td>214.564103</td>\n",
              "      <td>2039.948718</td>\n",
              "      <td>49.256410</td>\n",
              "      <td>332.743590</td>\n",
              "      <td>1.769231</td>\n",
              "    </tr>\n",
              "    <tr>\n",
              "      <th>2</th>\n",
              "      <td>--7zmmkVg-IMGaXbuVd0SQ</td>\n",
              "      <td>126.185185</td>\n",
              "      <td>1992.796296</td>\n",
              "      <td>19.222222</td>\n",
              "      <td>208.962963</td>\n",
              "      <td>1.814815</td>\n",
              "    </tr>\n",
              "    <tr>\n",
              "      <th>3</th>\n",
              "      <td>--8LPVSo5i0Oo61X01sV9A</td>\n",
              "      <td>25.250000</td>\n",
              "      <td>2095.750000</td>\n",
              "      <td>0.500000</td>\n",
              "      <td>7.500000</td>\n",
              "      <td>0.000000</td>\n",
              "    </tr>\n",
              "    <tr>\n",
              "      <th>4</th>\n",
              "      <td>--9QQLMTbFzLJ_oT-ON3Xw</td>\n",
              "      <td>52.454545</td>\n",
              "      <td>1804.636364</td>\n",
              "      <td>1.000000</td>\n",
              "      <td>34.636364</td>\n",
              "      <td>0.090909</td>\n",
              "    </tr>\n",
              "    <tr>\n",
              "      <th>5</th>\n",
              "      <td>--9e1ONYQuAa-CB_Rrw7Tw</td>\n",
              "      <td>179.679819</td>\n",
              "      <td>2810.451488</td>\n",
              "      <td>21.260673</td>\n",
              "      <td>180.395860</td>\n",
              "      <td>1.371281</td>\n",
              "    </tr>\n",
              "    <tr>\n",
              "      <th>6</th>\n",
              "      <td>--DaPTJW3-tB1vP-PfdTEg</td>\n",
              "      <td>100.844444</td>\n",
              "      <td>1863.533333</td>\n",
              "      <td>12.866667</td>\n",
              "      <td>102.444444</td>\n",
              "      <td>0.822222</td>\n",
              "    </tr>\n",
              "    <tr>\n",
              "      <th>7</th>\n",
              "      <td>--DdmeR16TRb3LsjG0ejrQ</td>\n",
              "      <td>499.600000</td>\n",
              "      <td>3237.600000</td>\n",
              "      <td>55.800000</td>\n",
              "      <td>516.800000</td>\n",
              "      <td>4.000000</td>\n",
              "    </tr>\n",
              "    <tr>\n",
              "      <th>8</th>\n",
              "      <td>--EF5N7P70J_UYBTPypYlA</td>\n",
              "      <td>7.600000</td>\n",
              "      <td>1278.800000</td>\n",
              "      <td>0.000000</td>\n",
              "      <td>6.000000</td>\n",
              "      <td>0.000000</td>\n",
              "    </tr>\n",
              "    <tr>\n",
              "      <th>9</th>\n",
              "      <td>--EX4rRznJrltyn-34Jz1w</td>\n",
              "      <td>230.500000</td>\n",
              "      <td>2371.750000</td>\n",
              "      <td>17.000000</td>\n",
              "      <td>271.250000</td>\n",
              "      <td>3.500000</td>\n",
              "    </tr>\n",
              "  </tbody>\n",
              "</table>\n",
              "</div>\n",
              "      <button class=\"colab-df-convert\" onclick=\"convertToInteractive('df-73dfa278-6d68-4b27-ac0b-a54f7c3693ca')\"\n",
              "              title=\"Convert this dataframe to an interactive table.\"\n",
              "              style=\"display:none;\">\n",
              "        \n",
              "  <svg xmlns=\"http://www.w3.org/2000/svg\" height=\"24px\"viewBox=\"0 0 24 24\"\n",
              "       width=\"24px\">\n",
              "    <path d=\"M0 0h24v24H0V0z\" fill=\"none\"/>\n",
              "    <path d=\"M18.56 5.44l.94 2.06.94-2.06 2.06-.94-2.06-.94-.94-2.06-.94 2.06-2.06.94zm-11 1L8.5 8.5l.94-2.06 2.06-.94-2.06-.94L8.5 2.5l-.94 2.06-2.06.94zm10 10l.94 2.06.94-2.06 2.06-.94-2.06-.94-.94-2.06-.94 2.06-2.06.94z\"/><path d=\"M17.41 7.96l-1.37-1.37c-.4-.4-.92-.59-1.43-.59-.52 0-1.04.2-1.43.59L10.3 9.45l-7.72 7.72c-.78.78-.78 2.05 0 2.83L4 21.41c.39.39.9.59 1.41.59.51 0 1.02-.2 1.41-.59l7.78-7.78 2.81-2.81c.8-.78.8-2.07 0-2.86zM5.41 20L4 18.59l7.72-7.72 1.47 1.35L5.41 20z\"/>\n",
              "  </svg>\n",
              "      </button>\n",
              "      \n",
              "  <style>\n",
              "    .colab-df-container {\n",
              "      display:flex;\n",
              "      flex-wrap:wrap;\n",
              "      gap: 12px;\n",
              "    }\n",
              "\n",
              "    .colab-df-convert {\n",
              "      background-color: #E8F0FE;\n",
              "      border: none;\n",
              "      border-radius: 50%;\n",
              "      cursor: pointer;\n",
              "      display: none;\n",
              "      fill: #1967D2;\n",
              "      height: 32px;\n",
              "      padding: 0 0 0 0;\n",
              "      width: 32px;\n",
              "    }\n",
              "\n",
              "    .colab-df-convert:hover {\n",
              "      background-color: #E2EBFA;\n",
              "      box-shadow: 0px 1px 2px rgba(60, 64, 67, 0.3), 0px 1px 3px 1px rgba(60, 64, 67, 0.15);\n",
              "      fill: #174EA6;\n",
              "    }\n",
              "\n",
              "    [theme=dark] .colab-df-convert {\n",
              "      background-color: #3B4455;\n",
              "      fill: #D2E3FC;\n",
              "    }\n",
              "\n",
              "    [theme=dark] .colab-df-convert:hover {\n",
              "      background-color: #434B5C;\n",
              "      box-shadow: 0px 1px 3px 1px rgba(0, 0, 0, 0.15);\n",
              "      filter: drop-shadow(0px 1px 2px rgba(0, 0, 0, 0.3));\n",
              "      fill: #FFFFFF;\n",
              "    }\n",
              "  </style>\n",
              "\n",
              "      <script>\n",
              "        const buttonEl =\n",
              "          document.querySelector('#df-73dfa278-6d68-4b27-ac0b-a54f7c3693ca button.colab-df-convert');\n",
              "        buttonEl.style.display =\n",
              "          google.colab.kernel.accessAllowed ? 'block' : 'none';\n",
              "\n",
              "        async function convertToInteractive(key) {\n",
              "          const element = document.querySelector('#df-73dfa278-6d68-4b27-ac0b-a54f7c3693ca');\n",
              "          const dataTable =\n",
              "            await google.colab.kernel.invokeFunction('convertToInteractive',\n",
              "                                                     [key], {});\n",
              "          if (!dataTable) return;\n",
              "\n",
              "          const docLinkHtml = 'Like what you see? Visit the ' +\n",
              "            '<a target=\"_blank\" href=https://colab.research.google.com/notebooks/data_table.ipynb>data table notebook</a>'\n",
              "            + ' to learn more about interactive tables.';\n",
              "          element.innerHTML = '';\n",
              "          dataTable['output_type'] = 'display_data';\n",
              "          await google.colab.output.renderOutput(dataTable, element);\n",
              "          const docLink = document.createElement('div');\n",
              "          docLink.innerHTML = docLinkHtml;\n",
              "          element.appendChild(docLink);\n",
              "        }\n",
              "      </script>\n",
              "    </div>\n",
              "  </div>\n",
              "  "
            ],
            "text/plain": [
              "              business_id  average_number_friends  average_days_on_yelp  \\\n",
              "0  --1UhMGODdWsrMastO9DZw               18.791667           1789.750000   \n",
              "1  --6MefnULPED_I942VcFNA              214.564103           2039.948718   \n",
              "2  --7zmmkVg-IMGaXbuVd0SQ              126.185185           1992.796296   \n",
              "3  --8LPVSo5i0Oo61X01sV9A               25.250000           2095.750000   \n",
              "4  --9QQLMTbFzLJ_oT-ON3Xw               52.454545           1804.636364   \n",
              "5  --9e1ONYQuAa-CB_Rrw7Tw              179.679819           2810.451488   \n",
              "6  --DaPTJW3-tB1vP-PfdTEg              100.844444           1863.533333   \n",
              "7  --DdmeR16TRb3LsjG0ejrQ              499.600000           3237.600000   \n",
              "8  --EF5N7P70J_UYBTPypYlA                7.600000           1278.800000   \n",
              "9  --EX4rRznJrltyn-34Jz1w              230.500000           2371.750000   \n",
              "\n",
              "   average_number_fans  average_review_count  average_number_years_elite  \n",
              "0             1.833333             57.541667                    0.833333  \n",
              "1            49.256410            332.743590                    1.769231  \n",
              "2            19.222222            208.962963                    1.814815  \n",
              "3             0.500000              7.500000                    0.000000  \n",
              "4             1.000000             34.636364                    0.090909  \n",
              "5            21.260673            180.395860                    1.371281  \n",
              "6            12.866667            102.444444                    0.822222  \n",
              "7            55.800000            516.800000                    4.000000  \n",
              "8             0.000000              6.000000                    0.000000  \n",
              "9            17.000000            271.250000                    3.500000  "
            ]
          },
          "metadata": {},
          "execution_count": 56
        }
      ],
      "source": [
        "user.head(10)"
      ]
    },
    {
      "cell_type": "code",
      "execution_count": null,
      "metadata": {
        "ExecuteTime": {
          "end_time": "2018-09-14T14:51:21.433534Z",
          "start_time": "2018-09-14T14:51:21.421393Z"
        },
        "scrolled": true,
        "id": "oGdt4j8oiyEz",
        "colab": {
          "base_uri": "https://localhost:8080/",
          "height": 1000
        },
        "outputId": "a043d85a-bd91-4b25-a961-3ff3f0581188"
      },
      "outputs": [
        {
          "output_type": "execute_result",
          "data": {
            "text/html": [
              "\n",
              "  <div id=\"df-56a4326b-a7fb-448d-abaf-6855f6bbb6f5\">\n",
              "    <div class=\"colab-df-container\">\n",
              "      <div>\n",
              "<style scoped>\n",
              "    .dataframe tbody tr th:only-of-type {\n",
              "        vertical-align: middle;\n",
              "    }\n",
              "\n",
              "    .dataframe tbody tr th {\n",
              "        vertical-align: top;\n",
              "    }\n",
              "\n",
              "    .dataframe thead th {\n",
              "        text-align: right;\n",
              "    }\n",
              "</style>\n",
              "<table border=\"1\" class=\"dataframe\">\n",
              "  <thead>\n",
              "    <tr style=\"text-align: right;\">\n",
              "      <th></th>\n",
              "      <th>business_id</th>\n",
              "      <th>time</th>\n",
              "      <th>weekday_checkins</th>\n",
              "      <th>weekend_checkins</th>\n",
              "    </tr>\n",
              "  </thead>\n",
              "  <tbody>\n",
              "    <tr>\n",
              "      <th>0</th>\n",
              "      <td>7KPBkxAOEtb3QeIL9PEErg</td>\n",
              "      <td>{'Fri-0': 2, 'Sat-0': 1, 'Sun-0': 1, 'Wed-0': 2, 'Fri-1': 1, 'Sat-1': 3, 'Thu-1': 1, 'Wed-1': 1, 'Sat-2': 1, 'Sun-2': 2, 'Thu-2': 1, 'Wed-2': 1, 'Fri-3': 1, 'Sun-3': 3, 'Mon-4': 1, 'Thu-4': 1, 'Tue-4': 2, 'Wed-4': 2, 'Sun-6': 1, 'Wed-6': 1, 'Thu-7': 1, 'Fri-10': 3, 'Mon-10': 1, 'Sat-10': 3, 'Sun-10': 3, 'Tue-10': 2, 'Mon-11': 1, 'Thu-11': 1, 'Wed-11': 2, 'Mon-12': 1, 'Sat-12': 1, 'Tue-12': 1, 'Sat-13': 3, 'Thu-13': 1, 'Tue-13': 2, 'Wed-13': 3, 'Fri-14': 2, 'Mon-14': 1, 'Sat-14': 1, 'Sun-14':...</td>\n",
              "      <td>76</td>\n",
              "      <td>75</td>\n",
              "    </tr>\n",
              "    <tr>\n",
              "      <th>1</th>\n",
              "      <td>kREVIrSBbtqBhIYkTccQUg</td>\n",
              "      <td>{'Mon-13': 1, 'Thu-13': 1, 'Sat-16': 1, 'Wed-17': 1, 'Sun-19': 1, 'Thu-20': 1, 'Sat-21': 1}</td>\n",
              "      <td>4</td>\n",
              "      <td>3</td>\n",
              "    </tr>\n",
              "    <tr>\n",
              "      <th>2</th>\n",
              "      <td>tJRDll5yqpZwehenzE2cSg</td>\n",
              "      <td>{'Thu-0': 1, 'Mon-1': 1, 'Mon-12': 1, 'Sat-16': 1, 'Sun-22': 1, 'Fri-23': 1}</td>\n",
              "      <td>3</td>\n",
              "      <td>3</td>\n",
              "    </tr>\n",
              "    <tr>\n",
              "      <th>3</th>\n",
              "      <td>tZccfdl6JNw-j5BKnCTIQQ</td>\n",
              "      <td>{'Sun-14': 1, 'Fri-18': 1, 'Mon-20': 1}</td>\n",
              "      <td>1</td>\n",
              "      <td>2</td>\n",
              "    </tr>\n",
              "    <tr>\n",
              "      <th>4</th>\n",
              "      <td>r1p7RAMzCV_6NPF0dNoR3g</td>\n",
              "      <td>{'Sat-3': 1, 'Sun-18': 1, 'Sat-21': 1, 'Sat-23': 1, 'Thu-23': 1}</td>\n",
              "      <td>1</td>\n",
              "      <td>4</td>\n",
              "    </tr>\n",
              "    <tr>\n",
              "      <th>5</th>\n",
              "      <td>OVkBMWxUBXGoO4K3_CeJ7g</td>\n",
              "      <td>{'Sat-17': 1, 'Sat-18': 1}</td>\n",
              "      <td>0</td>\n",
              "      <td>2</td>\n",
              "    </tr>\n",
              "    <tr>\n",
              "      <th>6</th>\n",
              "      <td>fW1SKSunVnlaq-fxZ-gSUQ</td>\n",
              "      <td>{'Sun-0': 1, 'Thu-0': 1, 'Sun-1': 1, 'Sat-15': 2, 'Sun-16': 2, 'Tue-16': 1, 'Fri-17': 1, 'Sat-17': 1, 'Mon-18': 1, 'Sat-18': 2, 'Sun-18': 1, 'Thu-18': 1, 'Sat-19': 1, 'Tue-19': 1, 'Wed-19': 1, 'Fri-20': 1, 'Sat-20': 1, 'Sat-21': 2, 'Sun-21': 1, 'Tue-21': 1, 'Sun-22': 1, 'Wed-22': 1, 'Mon-23': 1, 'Sat-23': 2}</td>\n",
              "      <td>9</td>\n",
              "      <td>20</td>\n",
              "    </tr>\n",
              "    <tr>\n",
              "      <th>7</th>\n",
              "      <td>mDdqgfrvROGAumcQdZ3HIg</td>\n",
              "      <td>{'Fri-2': 1, 'Fri-11': 1, 'Thu-11': 3, 'Mon-12': 1, 'Thu-12': 1, 'Wed-12': 1, 'Fri-13': 1, 'Thu-13': 1, 'Wed-18': 1, 'Fri-19': 1, 'Thu-20': 1, 'Tue-20': 2, 'Fri-21': 2, 'Mon-21': 1, 'Thu-21': 1, 'Tue-21': 2, 'Wed-21': 2, 'Fri-22': 3, 'Thu-22': 1, 'Tue-22': 2}</td>\n",
              "      <td>20</td>\n",
              "      <td>9</td>\n",
              "    </tr>\n",
              "    <tr>\n",
              "      <th>8</th>\n",
              "      <td>nhZ1HGWD8lMErdn3FuWuTQ</td>\n",
              "      <td>{'Fri-0': 1, 'Sat-0': 1, 'Sun-0': 1, 'Thu-0': 1, 'Wed-0': 1, 'Fri-1': 1, 'Sat-1': 1, 'Tue-1': 1, 'Mon-2': 1, 'Sun-2': 1, 'Thu-2': 1, 'Sat-3': 1, 'Sun-3': 1, 'Thu-3': 1, 'Wed-3': 1, 'Mon-17': 1, 'Sat-17': 1, 'Sun-17': 2, 'Tue-17': 1, 'Fri-18': 1, 'Mon-18': 1, 'Sun-18': 1, 'Mon-19': 1, 'Sat-19': 1, 'Mon-20': 3, 'Sat-20': 1, 'Thu-20': 1, 'Mon-21': 1, 'Thu-21': 1, 'Fri-22': 2, 'Sat-22': 3, 'Sun-22': 1, 'Tue-22': 3, 'Wed-22': 1, 'Sat-23': 2, 'Tue-23': 3}</td>\n",
              "      <td>24</td>\n",
              "      <td>23</td>\n",
              "    </tr>\n",
              "    <tr>\n",
              "      <th>9</th>\n",
              "      <td>vDoXZGE7p6xAkKQ0XQPvoA</td>\n",
              "      <td>{'Thu-15': 1, 'Sat-23': 1}</td>\n",
              "      <td>1</td>\n",
              "      <td>1</td>\n",
              "    </tr>\n",
              "  </tbody>\n",
              "</table>\n",
              "</div>\n",
              "      <button class=\"colab-df-convert\" onclick=\"convertToInteractive('df-56a4326b-a7fb-448d-abaf-6855f6bbb6f5')\"\n",
              "              title=\"Convert this dataframe to an interactive table.\"\n",
              "              style=\"display:none;\">\n",
              "        \n",
              "  <svg xmlns=\"http://www.w3.org/2000/svg\" height=\"24px\"viewBox=\"0 0 24 24\"\n",
              "       width=\"24px\">\n",
              "    <path d=\"M0 0h24v24H0V0z\" fill=\"none\"/>\n",
              "    <path d=\"M18.56 5.44l.94 2.06.94-2.06 2.06-.94-2.06-.94-.94-2.06-.94 2.06-2.06.94zm-11 1L8.5 8.5l.94-2.06 2.06-.94-2.06-.94L8.5 2.5l-.94 2.06-2.06.94zm10 10l.94 2.06.94-2.06 2.06-.94-2.06-.94-.94-2.06-.94 2.06-2.06.94z\"/><path d=\"M17.41 7.96l-1.37-1.37c-.4-.4-.92-.59-1.43-.59-.52 0-1.04.2-1.43.59L10.3 9.45l-7.72 7.72c-.78.78-.78 2.05 0 2.83L4 21.41c.39.39.9.59 1.41.59.51 0 1.02-.2 1.41-.59l7.78-7.78 2.81-2.81c.8-.78.8-2.07 0-2.86zM5.41 20L4 18.59l7.72-7.72 1.47 1.35L5.41 20z\"/>\n",
              "  </svg>\n",
              "      </button>\n",
              "      \n",
              "  <style>\n",
              "    .colab-df-container {\n",
              "      display:flex;\n",
              "      flex-wrap:wrap;\n",
              "      gap: 12px;\n",
              "    }\n",
              "\n",
              "    .colab-df-convert {\n",
              "      background-color: #E8F0FE;\n",
              "      border: none;\n",
              "      border-radius: 50%;\n",
              "      cursor: pointer;\n",
              "      display: none;\n",
              "      fill: #1967D2;\n",
              "      height: 32px;\n",
              "      padding: 0 0 0 0;\n",
              "      width: 32px;\n",
              "    }\n",
              "\n",
              "    .colab-df-convert:hover {\n",
              "      background-color: #E2EBFA;\n",
              "      box-shadow: 0px 1px 2px rgba(60, 64, 67, 0.3), 0px 1px 3px 1px rgba(60, 64, 67, 0.15);\n",
              "      fill: #174EA6;\n",
              "    }\n",
              "\n",
              "    [theme=dark] .colab-df-convert {\n",
              "      background-color: #3B4455;\n",
              "      fill: #D2E3FC;\n",
              "    }\n",
              "\n",
              "    [theme=dark] .colab-df-convert:hover {\n",
              "      background-color: #434B5C;\n",
              "      box-shadow: 0px 1px 3px 1px rgba(0, 0, 0, 0.15);\n",
              "      filter: drop-shadow(0px 1px 2px rgba(0, 0, 0, 0.3));\n",
              "      fill: #FFFFFF;\n",
              "    }\n",
              "  </style>\n",
              "\n",
              "      <script>\n",
              "        const buttonEl =\n",
              "          document.querySelector('#df-56a4326b-a7fb-448d-abaf-6855f6bbb6f5 button.colab-df-convert');\n",
              "        buttonEl.style.display =\n",
              "          google.colab.kernel.accessAllowed ? 'block' : 'none';\n",
              "\n",
              "        async function convertToInteractive(key) {\n",
              "          const element = document.querySelector('#df-56a4326b-a7fb-448d-abaf-6855f6bbb6f5');\n",
              "          const dataTable =\n",
              "            await google.colab.kernel.invokeFunction('convertToInteractive',\n",
              "                                                     [key], {});\n",
              "          if (!dataTable) return;\n",
              "\n",
              "          const docLinkHtml = 'Like what you see? Visit the ' +\n",
              "            '<a target=\"_blank\" href=https://colab.research.google.com/notebooks/data_table.ipynb>data table notebook</a>'\n",
              "            + ' to learn more about interactive tables.';\n",
              "          element.innerHTML = '';\n",
              "          dataTable['output_type'] = 'display_data';\n",
              "          await google.colab.output.renderOutput(dataTable, element);\n",
              "          const docLink = document.createElement('div');\n",
              "          docLink.innerHTML = docLinkHtml;\n",
              "          element.appendChild(docLink);\n",
              "        }\n",
              "      </script>\n",
              "    </div>\n",
              "  </div>\n",
              "  "
            ],
            "text/plain": [
              "              business_id  \\\n",
              "0  7KPBkxAOEtb3QeIL9PEErg   \n",
              "1  kREVIrSBbtqBhIYkTccQUg   \n",
              "2  tJRDll5yqpZwehenzE2cSg   \n",
              "3  tZccfdl6JNw-j5BKnCTIQQ   \n",
              "4  r1p7RAMzCV_6NPF0dNoR3g   \n",
              "5  OVkBMWxUBXGoO4K3_CeJ7g   \n",
              "6  fW1SKSunVnlaq-fxZ-gSUQ   \n",
              "7  mDdqgfrvROGAumcQdZ3HIg   \n",
              "8  nhZ1HGWD8lMErdn3FuWuTQ   \n",
              "9  vDoXZGE7p6xAkKQ0XQPvoA   \n",
              "\n",
              "                                                                                                                                                                                                                                                                                                                                                                                                                                                                                                                  time  \\\n",
              "0  {'Fri-0': 2, 'Sat-0': 1, 'Sun-0': 1, 'Wed-0': 2, 'Fri-1': 1, 'Sat-1': 3, 'Thu-1': 1, 'Wed-1': 1, 'Sat-2': 1, 'Sun-2': 2, 'Thu-2': 1, 'Wed-2': 1, 'Fri-3': 1, 'Sun-3': 3, 'Mon-4': 1, 'Thu-4': 1, 'Tue-4': 2, 'Wed-4': 2, 'Sun-6': 1, 'Wed-6': 1, 'Thu-7': 1, 'Fri-10': 3, 'Mon-10': 1, 'Sat-10': 3, 'Sun-10': 3, 'Tue-10': 2, 'Mon-11': 1, 'Thu-11': 1, 'Wed-11': 2, 'Mon-12': 1, 'Sat-12': 1, 'Tue-12': 1, 'Sat-13': 3, 'Thu-13': 1, 'Tue-13': 2, 'Wed-13': 3, 'Fri-14': 2, 'Mon-14': 1, 'Sat-14': 1, 'Sun-14':...   \n",
              "1                                                                                                                                                                                                                                                                                                                                                                                                                          {'Mon-13': 1, 'Thu-13': 1, 'Sat-16': 1, 'Wed-17': 1, 'Sun-19': 1, 'Thu-20': 1, 'Sat-21': 1}   \n",
              "2                                                                                                                                                                                                                                                                                                                                                                                                                                         {'Thu-0': 1, 'Mon-1': 1, 'Mon-12': 1, 'Sat-16': 1, 'Sun-22': 1, 'Fri-23': 1}   \n",
              "3                                                                                                                                                                                                                                                                                                                                                                                                                                                                              {'Sun-14': 1, 'Fri-18': 1, 'Mon-20': 1}   \n",
              "4                                                                                                                                                                                                                                                                                                                                                                                                                                                     {'Sat-3': 1, 'Sun-18': 1, 'Sat-21': 1, 'Sat-23': 1, 'Thu-23': 1}   \n",
              "5                                                                                                                                                                                                                                                                                                                                                                                                                                                                                           {'Sat-17': 1, 'Sat-18': 1}   \n",
              "6                                                                                                                                                                                                {'Sun-0': 1, 'Thu-0': 1, 'Sun-1': 1, 'Sat-15': 2, 'Sun-16': 2, 'Tue-16': 1, 'Fri-17': 1, 'Sat-17': 1, 'Mon-18': 1, 'Sat-18': 2, 'Sun-18': 1, 'Thu-18': 1, 'Sat-19': 1, 'Tue-19': 1, 'Wed-19': 1, 'Fri-20': 1, 'Sat-20': 1, 'Sat-21': 2, 'Sun-21': 1, 'Tue-21': 1, 'Sun-22': 1, 'Wed-22': 1, 'Mon-23': 1, 'Sat-23': 2}   \n",
              "7                                                                                                                                                                                                                                                  {'Fri-2': 1, 'Fri-11': 1, 'Thu-11': 3, 'Mon-12': 1, 'Thu-12': 1, 'Wed-12': 1, 'Fri-13': 1, 'Thu-13': 1, 'Wed-18': 1, 'Fri-19': 1, 'Thu-20': 1, 'Tue-20': 2, 'Fri-21': 2, 'Mon-21': 1, 'Thu-21': 1, 'Tue-21': 2, 'Wed-21': 2, 'Fri-22': 3, 'Thu-22': 1, 'Tue-22': 2}   \n",
              "8                                                {'Fri-0': 1, 'Sat-0': 1, 'Sun-0': 1, 'Thu-0': 1, 'Wed-0': 1, 'Fri-1': 1, 'Sat-1': 1, 'Tue-1': 1, 'Mon-2': 1, 'Sun-2': 1, 'Thu-2': 1, 'Sat-3': 1, 'Sun-3': 1, 'Thu-3': 1, 'Wed-3': 1, 'Mon-17': 1, 'Sat-17': 1, 'Sun-17': 2, 'Tue-17': 1, 'Fri-18': 1, 'Mon-18': 1, 'Sun-18': 1, 'Mon-19': 1, 'Sat-19': 1, 'Mon-20': 3, 'Sat-20': 1, 'Thu-20': 1, 'Mon-21': 1, 'Thu-21': 1, 'Fri-22': 2, 'Sat-22': 3, 'Sun-22': 1, 'Tue-22': 3, 'Wed-22': 1, 'Sat-23': 2, 'Tue-23': 3}   \n",
              "9                                                                                                                                                                                                                                                                                                                                                                                                                                                                                           {'Thu-15': 1, 'Sat-23': 1}   \n",
              "\n",
              "   weekday_checkins  weekend_checkins  \n",
              "0                76                75  \n",
              "1                 4                 3  \n",
              "2                 3                 3  \n",
              "3                 1                 2  \n",
              "4                 1                 4  \n",
              "5                 0                 2  \n",
              "6                 9                20  \n",
              "7                20                 9  \n",
              "8                24                23  \n",
              "9                 1                 1  "
            ]
          },
          "metadata": {},
          "execution_count": 57
        }
      ],
      "source": [
        "checkin.head(10)"
      ]
    },
    {
      "cell_type": "code",
      "execution_count": null,
      "metadata": {
        "ExecuteTime": {
          "end_time": "2018-09-14T14:51:21.445061Z",
          "start_time": "2018-09-14T14:51:21.435743Z"
        },
        "scrolled": true,
        "id": "jxAzFgAwiyEz",
        "colab": {
          "base_uri": "https://localhost:8080/",
          "height": 359
        },
        "outputId": "90b50577-2439-4a7c-b905-09a03a8de098"
      },
      "outputs": [
        {
          "output_type": "execute_result",
          "data": {
            "text/html": [
              "\n",
              "  <div id=\"df-b6ae21d6-8161-4192-b1ff-f825bca534eb\">\n",
              "    <div class=\"colab-df-container\">\n",
              "      <div>\n",
              "<style scoped>\n",
              "    .dataframe tbody tr th:only-of-type {\n",
              "        vertical-align: middle;\n",
              "    }\n",
              "\n",
              "    .dataframe tbody tr th {\n",
              "        vertical-align: top;\n",
              "    }\n",
              "\n",
              "    .dataframe thead th {\n",
              "        text-align: right;\n",
              "    }\n",
              "</style>\n",
              "<table border=\"1\" class=\"dataframe\">\n",
              "  <thead>\n",
              "    <tr style=\"text-align: right;\">\n",
              "      <th></th>\n",
              "      <th>business_id</th>\n",
              "      <th>average_tip_length</th>\n",
              "      <th>number_tips</th>\n",
              "    </tr>\n",
              "  </thead>\n",
              "  <tbody>\n",
              "    <tr>\n",
              "      <th>0</th>\n",
              "      <td>--1UhMGODdWsrMastO9DZw</td>\n",
              "      <td>79.000000</td>\n",
              "      <td>1</td>\n",
              "    </tr>\n",
              "    <tr>\n",
              "      <th>1</th>\n",
              "      <td>--6MefnULPED_I942VcFNA</td>\n",
              "      <td>49.857143</td>\n",
              "      <td>14</td>\n",
              "    </tr>\n",
              "    <tr>\n",
              "      <th>2</th>\n",
              "      <td>--7zmmkVg-IMGaXbuVd0SQ</td>\n",
              "      <td>52.500000</td>\n",
              "      <td>10</td>\n",
              "    </tr>\n",
              "    <tr>\n",
              "      <th>3</th>\n",
              "      <td>--9QQLMTbFzLJ_oT-ON3Xw</td>\n",
              "      <td>136.500000</td>\n",
              "      <td>2</td>\n",
              "    </tr>\n",
              "    <tr>\n",
              "      <th>4</th>\n",
              "      <td>--9e1ONYQuAa-CB_Rrw7Tw</td>\n",
              "      <td>68.064935</td>\n",
              "      <td>154</td>\n",
              "    </tr>\n",
              "    <tr>\n",
              "      <th>5</th>\n",
              "      <td>--DaPTJW3-tB1vP-PfdTEg</td>\n",
              "      <td>119.250000</td>\n",
              "      <td>4</td>\n",
              "    </tr>\n",
              "    <tr>\n",
              "      <th>6</th>\n",
              "      <td>--DdmeR16TRb3LsjG0ejrQ</td>\n",
              "      <td>85.666667</td>\n",
              "      <td>3</td>\n",
              "    </tr>\n",
              "    <tr>\n",
              "      <th>7</th>\n",
              "      <td>--EX4rRznJrltyn-34Jz1w</td>\n",
              "      <td>108.000000</td>\n",
              "      <td>2</td>\n",
              "    </tr>\n",
              "    <tr>\n",
              "      <th>8</th>\n",
              "      <td>--FBCX-N37CMYDfs790Bnw</td>\n",
              "      <td>57.333333</td>\n",
              "      <td>42</td>\n",
              "    </tr>\n",
              "    <tr>\n",
              "      <th>9</th>\n",
              "      <td>--GM_ORV2cYS-h38DSaCLw</td>\n",
              "      <td>36.000000</td>\n",
              "      <td>2</td>\n",
              "    </tr>\n",
              "  </tbody>\n",
              "</table>\n",
              "</div>\n",
              "      <button class=\"colab-df-convert\" onclick=\"convertToInteractive('df-b6ae21d6-8161-4192-b1ff-f825bca534eb')\"\n",
              "              title=\"Convert this dataframe to an interactive table.\"\n",
              "              style=\"display:none;\">\n",
              "        \n",
              "  <svg xmlns=\"http://www.w3.org/2000/svg\" height=\"24px\"viewBox=\"0 0 24 24\"\n",
              "       width=\"24px\">\n",
              "    <path d=\"M0 0h24v24H0V0z\" fill=\"none\"/>\n",
              "    <path d=\"M18.56 5.44l.94 2.06.94-2.06 2.06-.94-2.06-.94-.94-2.06-.94 2.06-2.06.94zm-11 1L8.5 8.5l.94-2.06 2.06-.94-2.06-.94L8.5 2.5l-.94 2.06-2.06.94zm10 10l.94 2.06.94-2.06 2.06-.94-2.06-.94-.94-2.06-.94 2.06-2.06.94z\"/><path d=\"M17.41 7.96l-1.37-1.37c-.4-.4-.92-.59-1.43-.59-.52 0-1.04.2-1.43.59L10.3 9.45l-7.72 7.72c-.78.78-.78 2.05 0 2.83L4 21.41c.39.39.9.59 1.41.59.51 0 1.02-.2 1.41-.59l7.78-7.78 2.81-2.81c.8-.78.8-2.07 0-2.86zM5.41 20L4 18.59l7.72-7.72 1.47 1.35L5.41 20z\"/>\n",
              "  </svg>\n",
              "      </button>\n",
              "      \n",
              "  <style>\n",
              "    .colab-df-container {\n",
              "      display:flex;\n",
              "      flex-wrap:wrap;\n",
              "      gap: 12px;\n",
              "    }\n",
              "\n",
              "    .colab-df-convert {\n",
              "      background-color: #E8F0FE;\n",
              "      border: none;\n",
              "      border-radius: 50%;\n",
              "      cursor: pointer;\n",
              "      display: none;\n",
              "      fill: #1967D2;\n",
              "      height: 32px;\n",
              "      padding: 0 0 0 0;\n",
              "      width: 32px;\n",
              "    }\n",
              "\n",
              "    .colab-df-convert:hover {\n",
              "      background-color: #E2EBFA;\n",
              "      box-shadow: 0px 1px 2px rgba(60, 64, 67, 0.3), 0px 1px 3px 1px rgba(60, 64, 67, 0.15);\n",
              "      fill: #174EA6;\n",
              "    }\n",
              "\n",
              "    [theme=dark] .colab-df-convert {\n",
              "      background-color: #3B4455;\n",
              "      fill: #D2E3FC;\n",
              "    }\n",
              "\n",
              "    [theme=dark] .colab-df-convert:hover {\n",
              "      background-color: #434B5C;\n",
              "      box-shadow: 0px 1px 3px 1px rgba(0, 0, 0, 0.15);\n",
              "      filter: drop-shadow(0px 1px 2px rgba(0, 0, 0, 0.3));\n",
              "      fill: #FFFFFF;\n",
              "    }\n",
              "  </style>\n",
              "\n",
              "      <script>\n",
              "        const buttonEl =\n",
              "          document.querySelector('#df-b6ae21d6-8161-4192-b1ff-f825bca534eb button.colab-df-convert');\n",
              "        buttonEl.style.display =\n",
              "          google.colab.kernel.accessAllowed ? 'block' : 'none';\n",
              "\n",
              "        async function convertToInteractive(key) {\n",
              "          const element = document.querySelector('#df-b6ae21d6-8161-4192-b1ff-f825bca534eb');\n",
              "          const dataTable =\n",
              "            await google.colab.kernel.invokeFunction('convertToInteractive',\n",
              "                                                     [key], {});\n",
              "          if (!dataTable) return;\n",
              "\n",
              "          const docLinkHtml = 'Like what you see? Visit the ' +\n",
              "            '<a target=\"_blank\" href=https://colab.research.google.com/notebooks/data_table.ipynb>data table notebook</a>'\n",
              "            + ' to learn more about interactive tables.';\n",
              "          element.innerHTML = '';\n",
              "          dataTable['output_type'] = 'display_data';\n",
              "          await google.colab.output.renderOutput(dataTable, element);\n",
              "          const docLink = document.createElement('div');\n",
              "          docLink.innerHTML = docLinkHtml;\n",
              "          element.appendChild(docLink);\n",
              "        }\n",
              "      </script>\n",
              "    </div>\n",
              "  </div>\n",
              "  "
            ],
            "text/plain": [
              "              business_id  average_tip_length  number_tips\n",
              "0  --1UhMGODdWsrMastO9DZw           79.000000            1\n",
              "1  --6MefnULPED_I942VcFNA           49.857143           14\n",
              "2  --7zmmkVg-IMGaXbuVd0SQ           52.500000           10\n",
              "3  --9QQLMTbFzLJ_oT-ON3Xw          136.500000            2\n",
              "4  --9e1ONYQuAa-CB_Rrw7Tw           68.064935          154\n",
              "5  --DaPTJW3-tB1vP-PfdTEg          119.250000            4\n",
              "6  --DdmeR16TRb3LsjG0ejrQ           85.666667            3\n",
              "7  --EX4rRznJrltyn-34Jz1w          108.000000            2\n",
              "8  --FBCX-N37CMYDfs790Bnw           57.333333           42\n",
              "9  --GM_ORV2cYS-h38DSaCLw           36.000000            2"
            ]
          },
          "metadata": {},
          "execution_count": 58
        }
      ],
      "source": [
        "tip.head(10)"
      ]
    },
    {
      "cell_type": "code",
      "execution_count": null,
      "metadata": {
        "ExecuteTime": {
          "end_time": "2018-09-14T14:51:21.455113Z",
          "start_time": "2018-09-14T14:51:21.446975Z"
        },
        "id": "QE-jb487iyE0",
        "colab": {
          "base_uri": "https://localhost:8080/",
          "height": 359
        },
        "outputId": "716773ca-8028-4b8e-ac5b-5352311ad3e9"
      },
      "outputs": [
        {
          "output_type": "execute_result",
          "data": {
            "text/html": [
              "\n",
              "  <div id=\"df-6a4e279f-6d1f-4475-8008-f93a50b26b1f\">\n",
              "    <div class=\"colab-df-container\">\n",
              "      <div>\n",
              "<style scoped>\n",
              "    .dataframe tbody tr th:only-of-type {\n",
              "        vertical-align: middle;\n",
              "    }\n",
              "\n",
              "    .dataframe tbody tr th {\n",
              "        vertical-align: top;\n",
              "    }\n",
              "\n",
              "    .dataframe thead th {\n",
              "        text-align: right;\n",
              "    }\n",
              "</style>\n",
              "<table border=\"1\" class=\"dataframe\">\n",
              "  <thead>\n",
              "    <tr style=\"text-align: right;\">\n",
              "      <th></th>\n",
              "      <th>business_id</th>\n",
              "      <th>average_caption_length</th>\n",
              "      <th>number_pics</th>\n",
              "    </tr>\n",
              "  </thead>\n",
              "  <tbody>\n",
              "    <tr>\n",
              "      <th>0</th>\n",
              "      <td>--1UhMGODdWsrMastO9DZw</td>\n",
              "      <td>0.000000</td>\n",
              "      <td>1</td>\n",
              "    </tr>\n",
              "    <tr>\n",
              "      <th>1</th>\n",
              "      <td>--6MefnULPED_I942VcFNA</td>\n",
              "      <td>67.500000</td>\n",
              "      <td>2</td>\n",
              "    </tr>\n",
              "    <tr>\n",
              "      <th>2</th>\n",
              "      <td>--9e1ONYQuAa-CB_Rrw7Tw</td>\n",
              "      <td>30.426471</td>\n",
              "      <td>136</td>\n",
              "    </tr>\n",
              "    <tr>\n",
              "      <th>3</th>\n",
              "      <td>--DaPTJW3-tB1vP-PfdTEg</td>\n",
              "      <td>0.000000</td>\n",
              "      <td>1</td>\n",
              "    </tr>\n",
              "    <tr>\n",
              "      <th>4</th>\n",
              "      <td>--FBCX-N37CMYDfs790Bnw</td>\n",
              "      <td>5.500000</td>\n",
              "      <td>4</td>\n",
              "    </tr>\n",
              "    <tr>\n",
              "      <th>5</th>\n",
              "      <td>--KCl2FvVQpvjzmZSPyviA</td>\n",
              "      <td>0.000000</td>\n",
              "      <td>2</td>\n",
              "    </tr>\n",
              "    <tr>\n",
              "      <th>6</th>\n",
              "      <td>--Ni3oJ4VOqfOEu7Sj2Vzg</td>\n",
              "      <td>0.000000</td>\n",
              "      <td>7</td>\n",
              "    </tr>\n",
              "    <tr>\n",
              "      <th>7</th>\n",
              "      <td>--S62v0QgkqQaVUhFnNHrw</td>\n",
              "      <td>22.300000</td>\n",
              "      <td>10</td>\n",
              "    </tr>\n",
              "    <tr>\n",
              "      <th>8</th>\n",
              "      <td>--SrzpvFLwP_YFwB_Cetow</td>\n",
              "      <td>17.384615</td>\n",
              "      <td>13</td>\n",
              "    </tr>\n",
              "    <tr>\n",
              "      <th>9</th>\n",
              "      <td>--cZ6Hhc9F7VkKXxHMVZSQ</td>\n",
              "      <td>0.000000</td>\n",
              "      <td>11</td>\n",
              "    </tr>\n",
              "  </tbody>\n",
              "</table>\n",
              "</div>\n",
              "      <button class=\"colab-df-convert\" onclick=\"convertToInteractive('df-6a4e279f-6d1f-4475-8008-f93a50b26b1f')\"\n",
              "              title=\"Convert this dataframe to an interactive table.\"\n",
              "              style=\"display:none;\">\n",
              "        \n",
              "  <svg xmlns=\"http://www.w3.org/2000/svg\" height=\"24px\"viewBox=\"0 0 24 24\"\n",
              "       width=\"24px\">\n",
              "    <path d=\"M0 0h24v24H0V0z\" fill=\"none\"/>\n",
              "    <path d=\"M18.56 5.44l.94 2.06.94-2.06 2.06-.94-2.06-.94-.94-2.06-.94 2.06-2.06.94zm-11 1L8.5 8.5l.94-2.06 2.06-.94-2.06-.94L8.5 2.5l-.94 2.06-2.06.94zm10 10l.94 2.06.94-2.06 2.06-.94-2.06-.94-.94-2.06-.94 2.06-2.06.94z\"/><path d=\"M17.41 7.96l-1.37-1.37c-.4-.4-.92-.59-1.43-.59-.52 0-1.04.2-1.43.59L10.3 9.45l-7.72 7.72c-.78.78-.78 2.05 0 2.83L4 21.41c.39.39.9.59 1.41.59.51 0 1.02-.2 1.41-.59l7.78-7.78 2.81-2.81c.8-.78.8-2.07 0-2.86zM5.41 20L4 18.59l7.72-7.72 1.47 1.35L5.41 20z\"/>\n",
              "  </svg>\n",
              "      </button>\n",
              "      \n",
              "  <style>\n",
              "    .colab-df-container {\n",
              "      display:flex;\n",
              "      flex-wrap:wrap;\n",
              "      gap: 12px;\n",
              "    }\n",
              "\n",
              "    .colab-df-convert {\n",
              "      background-color: #E8F0FE;\n",
              "      border: none;\n",
              "      border-radius: 50%;\n",
              "      cursor: pointer;\n",
              "      display: none;\n",
              "      fill: #1967D2;\n",
              "      height: 32px;\n",
              "      padding: 0 0 0 0;\n",
              "      width: 32px;\n",
              "    }\n",
              "\n",
              "    .colab-df-convert:hover {\n",
              "      background-color: #E2EBFA;\n",
              "      box-shadow: 0px 1px 2px rgba(60, 64, 67, 0.3), 0px 1px 3px 1px rgba(60, 64, 67, 0.15);\n",
              "      fill: #174EA6;\n",
              "    }\n",
              "\n",
              "    [theme=dark] .colab-df-convert {\n",
              "      background-color: #3B4455;\n",
              "      fill: #D2E3FC;\n",
              "    }\n",
              "\n",
              "    [theme=dark] .colab-df-convert:hover {\n",
              "      background-color: #434B5C;\n",
              "      box-shadow: 0px 1px 3px 1px rgba(0, 0, 0, 0.15);\n",
              "      filter: drop-shadow(0px 1px 2px rgba(0, 0, 0, 0.3));\n",
              "      fill: #FFFFFF;\n",
              "    }\n",
              "  </style>\n",
              "\n",
              "      <script>\n",
              "        const buttonEl =\n",
              "          document.querySelector('#df-6a4e279f-6d1f-4475-8008-f93a50b26b1f button.colab-df-convert');\n",
              "        buttonEl.style.display =\n",
              "          google.colab.kernel.accessAllowed ? 'block' : 'none';\n",
              "\n",
              "        async function convertToInteractive(key) {\n",
              "          const element = document.querySelector('#df-6a4e279f-6d1f-4475-8008-f93a50b26b1f');\n",
              "          const dataTable =\n",
              "            await google.colab.kernel.invokeFunction('convertToInteractive',\n",
              "                                                     [key], {});\n",
              "          if (!dataTable) return;\n",
              "\n",
              "          const docLinkHtml = 'Like what you see? Visit the ' +\n",
              "            '<a target=\"_blank\" href=https://colab.research.google.com/notebooks/data_table.ipynb>data table notebook</a>'\n",
              "            + ' to learn more about interactive tables.';\n",
              "          element.innerHTML = '';\n",
              "          dataTable['output_type'] = 'display_data';\n",
              "          await google.colab.output.renderOutput(dataTable, element);\n",
              "          const docLink = document.createElement('div');\n",
              "          docLink.innerHTML = docLinkHtml;\n",
              "          element.appendChild(docLink);\n",
              "        }\n",
              "      </script>\n",
              "    </div>\n",
              "  </div>\n",
              "  "
            ],
            "text/plain": [
              "              business_id  average_caption_length  number_pics\n",
              "0  --1UhMGODdWsrMastO9DZw                0.000000            1\n",
              "1  --6MefnULPED_I942VcFNA               67.500000            2\n",
              "2  --9e1ONYQuAa-CB_Rrw7Tw               30.426471          136\n",
              "3  --DaPTJW3-tB1vP-PfdTEg                0.000000            1\n",
              "4  --FBCX-N37CMYDfs790Bnw                5.500000            4\n",
              "5  --KCl2FvVQpvjzmZSPyviA                0.000000            2\n",
              "6  --Ni3oJ4VOqfOEu7Sj2Vzg                0.000000            7\n",
              "7  --S62v0QgkqQaVUhFnNHrw               22.300000           10\n",
              "8  --SrzpvFLwP_YFwB_Cetow               17.384615           13\n",
              "9  --cZ6Hhc9F7VkKXxHMVZSQ                0.000000           11"
            ]
          },
          "metadata": {},
          "execution_count": 59
        }
      ],
      "source": [
        "photo.head(10)"
      ]
    },
    {
      "cell_type": "markdown",
      "metadata": {
        "id": "udW1cAo7iyE0"
      },
      "source": [
        "How many different businesses are in the dataset? What are the different features in the review DataFrame?"
      ]
    },
    {
      "cell_type": "code",
      "execution_count": null,
      "metadata": {
        "ExecuteTime": {
          "end_time": "2018-09-14T14:51:21.460856Z",
          "start_time": "2018-09-14T14:51:21.456994Z"
        },
        "id": "Lej68JLIiyE0",
        "colab": {
          "base_uri": "https://localhost:8080/"
        },
        "outputId": "6bfe1ee4-85b6-4a08-b1f7-84f98d20a694"
      },
      "outputs": [
        {
          "output_type": "stream",
          "name": "stdout",
          "text": [
            "188593\n"
          ]
        }
      ],
      "source": [
        "print(len(business['name']))"
      ]
    },
    {
      "cell_type": "markdown",
      "metadata": {
        "id": "0dHQlRLdiyE0"
      },
      "source": [
        "What is the range of values for the features in the user DataFrame?"
      ]
    },
    {
      "cell_type": "code",
      "execution_count": null,
      "metadata": {
        "ExecuteTime": {
          "end_time": "2018-09-14T14:51:21.556908Z",
          "start_time": "2018-09-14T14:51:21.462876Z"
        },
        "id": "gdV7wqhgiyE1",
        "colab": {
          "base_uri": "https://localhost:8080/",
          "height": 361
        },
        "outputId": "122ea7d8-12e0-4386-d9bb-d63747163498"
      },
      "outputs": [
        {
          "output_type": "execute_result",
          "data": {
            "text/html": [
              "\n",
              "  <div id=\"df-bda5ebcc-a968-4954-952b-9cbc5b034ee6\">\n",
              "    <div class=\"colab-df-container\">\n",
              "      <div>\n",
              "<style scoped>\n",
              "    .dataframe tbody tr th:only-of-type {\n",
              "        vertical-align: middle;\n",
              "    }\n",
              "\n",
              "    .dataframe tbody tr th {\n",
              "        vertical-align: top;\n",
              "    }\n",
              "\n",
              "    .dataframe thead th {\n",
              "        text-align: right;\n",
              "    }\n",
              "</style>\n",
              "<table border=\"1\" class=\"dataframe\">\n",
              "  <thead>\n",
              "    <tr style=\"text-align: right;\">\n",
              "      <th></th>\n",
              "      <th>average_number_friends</th>\n",
              "      <th>average_days_on_yelp</th>\n",
              "      <th>average_number_fans</th>\n",
              "      <th>average_review_count</th>\n",
              "      <th>average_number_years_elite</th>\n",
              "    </tr>\n",
              "  </thead>\n",
              "  <tbody>\n",
              "    <tr>\n",
              "      <th>count</th>\n",
              "      <td>188593.000000</td>\n",
              "      <td>188593.000000</td>\n",
              "      <td>188593.000000</td>\n",
              "      <td>188593.000000</td>\n",
              "      <td>188593.000000</td>\n",
              "    </tr>\n",
              "    <tr>\n",
              "      <th>mean</th>\n",
              "      <td>105.132000</td>\n",
              "      <td>2005.367009</td>\n",
              "      <td>11.590148</td>\n",
              "      <td>122.110660</td>\n",
              "      <td>0.923313</td>\n",
              "    </tr>\n",
              "    <tr>\n",
              "      <th>std</th>\n",
              "      <td>162.653680</td>\n",
              "      <td>554.174540</td>\n",
              "      <td>25.901801</td>\n",
              "      <td>208.814471</td>\n",
              "      <td>1.109289</td>\n",
              "    </tr>\n",
              "    <tr>\n",
              "      <th>min</th>\n",
              "      <td>1.000000</td>\n",
              "      <td>76.000000</td>\n",
              "      <td>0.000000</td>\n",
              "      <td>0.666667</td>\n",
              "      <td>0.000000</td>\n",
              "    </tr>\n",
              "    <tr>\n",
              "      <th>25%</th>\n",
              "      <td>26.666667</td>\n",
              "      <td>1647.000000</td>\n",
              "      <td>0.666667</td>\n",
              "      <td>21.000000</td>\n",
              "      <td>0.000000</td>\n",
              "    </tr>\n",
              "    <tr>\n",
              "      <th>50%</th>\n",
              "      <td>59.384615</td>\n",
              "      <td>1957.150000</td>\n",
              "      <td>3.583333</td>\n",
              "      <td>62.142857</td>\n",
              "      <td>0.583333</td>\n",
              "    </tr>\n",
              "    <tr>\n",
              "      <th>75%</th>\n",
              "      <td>117.666667</td>\n",
              "      <td>2312.238095</td>\n",
              "      <td>11.555556</td>\n",
              "      <td>143.454545</td>\n",
              "      <td>1.400000</td>\n",
              "    </tr>\n",
              "    <tr>\n",
              "      <th>max</th>\n",
              "      <td>4219.000000</td>\n",
              "      <td>4860.000000</td>\n",
              "      <td>1174.666667</td>\n",
              "      <td>6335.000000</td>\n",
              "      <td>10.666667</td>\n",
              "    </tr>\n",
              "  </tbody>\n",
              "</table>\n",
              "</div>\n",
              "      <button class=\"colab-df-convert\" onclick=\"convertToInteractive('df-bda5ebcc-a968-4954-952b-9cbc5b034ee6')\"\n",
              "              title=\"Convert this dataframe to an interactive table.\"\n",
              "              style=\"display:none;\">\n",
              "        \n",
              "  <svg xmlns=\"http://www.w3.org/2000/svg\" height=\"24px\"viewBox=\"0 0 24 24\"\n",
              "       width=\"24px\">\n",
              "    <path d=\"M0 0h24v24H0V0z\" fill=\"none\"/>\n",
              "    <path d=\"M18.56 5.44l.94 2.06.94-2.06 2.06-.94-2.06-.94-.94-2.06-.94 2.06-2.06.94zm-11 1L8.5 8.5l.94-2.06 2.06-.94-2.06-.94L8.5 2.5l-.94 2.06-2.06.94zm10 10l.94 2.06.94-2.06 2.06-.94-2.06-.94-.94-2.06-.94 2.06-2.06.94z\"/><path d=\"M17.41 7.96l-1.37-1.37c-.4-.4-.92-.59-1.43-.59-.52 0-1.04.2-1.43.59L10.3 9.45l-7.72 7.72c-.78.78-.78 2.05 0 2.83L4 21.41c.39.39.9.59 1.41.59.51 0 1.02-.2 1.41-.59l7.78-7.78 2.81-2.81c.8-.78.8-2.07 0-2.86zM5.41 20L4 18.59l7.72-7.72 1.47 1.35L5.41 20z\"/>\n",
              "  </svg>\n",
              "      </button>\n",
              "      \n",
              "  <style>\n",
              "    .colab-df-container {\n",
              "      display:flex;\n",
              "      flex-wrap:wrap;\n",
              "      gap: 12px;\n",
              "    }\n",
              "\n",
              "    .colab-df-convert {\n",
              "      background-color: #E8F0FE;\n",
              "      border: none;\n",
              "      border-radius: 50%;\n",
              "      cursor: pointer;\n",
              "      display: none;\n",
              "      fill: #1967D2;\n",
              "      height: 32px;\n",
              "      padding: 0 0 0 0;\n",
              "      width: 32px;\n",
              "    }\n",
              "\n",
              "    .colab-df-convert:hover {\n",
              "      background-color: #E2EBFA;\n",
              "      box-shadow: 0px 1px 2px rgba(60, 64, 67, 0.3), 0px 1px 3px 1px rgba(60, 64, 67, 0.15);\n",
              "      fill: #174EA6;\n",
              "    }\n",
              "\n",
              "    [theme=dark] .colab-df-convert {\n",
              "      background-color: #3B4455;\n",
              "      fill: #D2E3FC;\n",
              "    }\n",
              "\n",
              "    [theme=dark] .colab-df-convert:hover {\n",
              "      background-color: #434B5C;\n",
              "      box-shadow: 0px 1px 3px 1px rgba(0, 0, 0, 0.15);\n",
              "      filter: drop-shadow(0px 1px 2px rgba(0, 0, 0, 0.3));\n",
              "      fill: #FFFFFF;\n",
              "    }\n",
              "  </style>\n",
              "\n",
              "      <script>\n",
              "        const buttonEl =\n",
              "          document.querySelector('#df-bda5ebcc-a968-4954-952b-9cbc5b034ee6 button.colab-df-convert');\n",
              "        buttonEl.style.display =\n",
              "          google.colab.kernel.accessAllowed ? 'block' : 'none';\n",
              "\n",
              "        async function convertToInteractive(key) {\n",
              "          const element = document.querySelector('#df-bda5ebcc-a968-4954-952b-9cbc5b034ee6');\n",
              "          const dataTable =\n",
              "            await google.colab.kernel.invokeFunction('convertToInteractive',\n",
              "                                                     [key], {});\n",
              "          if (!dataTable) return;\n",
              "\n",
              "          const docLinkHtml = 'Like what you see? Visit the ' +\n",
              "            '<a target=\"_blank\" href=https://colab.research.google.com/notebooks/data_table.ipynb>data table notebook</a>'\n",
              "            + ' to learn more about interactive tables.';\n",
              "          element.innerHTML = '';\n",
              "          dataTable['output_type'] = 'display_data';\n",
              "          await google.colab.output.renderOutput(dataTable, element);\n",
              "          const docLink = document.createElement('div');\n",
              "          docLink.innerHTML = docLinkHtml;\n",
              "          element.appendChild(docLink);\n",
              "        }\n",
              "      </script>\n",
              "    </div>\n",
              "  </div>\n",
              "  "
            ],
            "text/plain": [
              "       average_number_friends  average_days_on_yelp  average_number_fans  \\\n",
              "count           188593.000000         188593.000000        188593.000000   \n",
              "mean               105.132000           2005.367009            11.590148   \n",
              "std                162.653680            554.174540            25.901801   \n",
              "min                  1.000000             76.000000             0.000000   \n",
              "25%                 26.666667           1647.000000             0.666667   \n",
              "50%                 59.384615           1957.150000             3.583333   \n",
              "75%                117.666667           2312.238095            11.555556   \n",
              "max               4219.000000           4860.000000          1174.666667   \n",
              "\n",
              "       average_review_count  average_number_years_elite  \n",
              "count         188593.000000               188593.000000  \n",
              "mean             122.110660                    0.923313  \n",
              "std              208.814471                    1.109289  \n",
              "min                0.666667                    0.000000  \n",
              "25%               21.000000                    0.000000  \n",
              "50%               62.142857                    0.583333  \n",
              "75%              143.454545                    1.400000  \n",
              "max             6335.000000                   10.666667  "
            ]
          },
          "metadata": {},
          "execution_count": 65
        }
      ],
      "source": [
        "user.describe()"
      ]
    },
    {
      "cell_type": "markdown",
      "metadata": {
        "id": "X9sz3WZJiyE1"
      },
      "source": [
        "What is the Yelp rating, or `stars`, of the establishment with `business_id` = `5EvUIR4IzCWUOm0PsUZXjA`. Use Pandas boolean indexing to find the Yelp rating, using the syntax below:\n",
        "\n",
        "```python\n",
        "df[df['column_we_know'] == 'value_we_know']['column_we_want']\n",
        "```"
      ]
    },
    {
      "cell_type": "code",
      "execution_count": null,
      "metadata": {
        "ExecuteTime": {
          "end_time": "2018-09-14T14:51:21.598473Z",
          "start_time": "2018-09-14T14:51:21.559796Z"
        },
        "id": "ti7dLRSXiyE2",
        "colab": {
          "base_uri": "https://localhost:8080/"
        },
        "outputId": "0e5ee473-0c4a-4dd0-ea90-33fe9b54b1c5"
      },
      "outputs": [
        {
          "output_type": "execute_result",
          "data": {
            "text/plain": [
              "30781    3.0\n",
              "Name: stars, dtype: float64"
            ]
          },
          "metadata": {},
          "execution_count": 63
        }
      ],
      "source": [
        "business[business['business_id'] == '5EvUIR4IzCWUOm0PsUZXjA']['stars']"
      ]
    },
    {
      "cell_type": "markdown",
      "metadata": {
        "id": "AiXkNjY6iyE2"
      },
      "source": [
        " What feature, or column, do the DataFrames have in common?"
      ]
    },
    {
      "cell_type": "markdown",
      "metadata": {
        "id": "7jG_UEEViyFE"
      },
      "source": [
        "## Merge the Data\n",
        "\n",
        "Since we are working with data from several files, we need to combine the data into a single DataFrame that allows us to analyze the different features with respect to our target variable, the Yelp rating. We can do this by merging the multiple DataFrames we have together, joining them on the columns they have in common. In our case, this unique identifying column is the `business_id`. We can merge two DataFrames together with the following syntax:\n",
        "\n",
        "```python\n",
        "pd.merge(left, right, how='inner/outer/left/right', on='column(s)_to_merge_on')\n",
        "```\n",
        "* `left` is the DataFrame on the left side of our merge\n",
        "* `right` is the DataFrame on the right side of our merge\n",
        "* `how` describes the style of merge we want to complete (similar to inner/outer/left/right joins in SQL)\n",
        "* `on` is the column or columns to perform the merge on (the column connecting the two tables)\n",
        "\n",
        "Given our six DataFrames, we will need to perform 5 merges to combine all the data into one DataFrame. In the cell below we merged the business table and the review table into a new DataFrame, `df`, for you. After the merge we've added all the rows from `businesses` and `reviews` together, but kept the same total number of rows! Run the cell to perform the merge and confirm the number of rows in `df`. "
      ]
    },
    {
      "cell_type": "code",
      "execution_count": null,
      "metadata": {
        "id": "LEf2bn1jiyFE"
      },
      "outputs": [],
      "source": [
        "df = pd.merge(businesses, reviews, how='left', on='business_id')\n",
        "print(len(df))"
      ]
    },
    {
      "cell_type": "markdown",
      "metadata": {
        "id": "gOoX0ydaiyFF"
      },
      "source": [
        "Merge each of the other 4 DataFrames into our new DataFrame `df` to combine all the data together. Make sure that `df` is the left DataFrame in each merge and `how=left` since not every DataFrame includes every business in the dataset (this way we won't lose any data during the merges). Once combined, print out the columns of `df`. What features are in this new DataFrame?"
      ]
    },
    {
      "cell_type": "code",
      "execution_count": null,
      "metadata": {
        "ExecuteTime": {
          "end_time": "2018-09-14T14:51:24.043166Z",
          "start_time": "2018-09-14T14:51:22.538823Z"
        },
        "id": "07qJjHDxiyFF"
      },
      "outputs": [],
      "source": [
        ""
      ]
    },
    {
      "cell_type": "markdown",
      "metadata": {
        "id": "_jt5awSEiyFF"
      },
      "source": [
        "## Clean the Data\n",
        "\n",
        "We are getting really close to the fun analysis part! We just have to clean our data a bit so we can focus on the features that might have predictive power for determining an establishment's Yelp rating.\n",
        "\n",
        "In a Linear Regression model, our features will ideally be continuous variables that have an affect on our dependent variable, the Yelp rating. For this project with will also be working with some features that are binary, on the scale [0,1]. With this information, we can remove any columns in the dataset that are not continuous or binary, and that we do not want to make predictions on. The cell below contains a list of these unnecessary features. Drop them from `df` with Pandas' drop syntax, provided below:\n",
        "\n",
        "```python\n",
        "df.drop(list_of_features_to_remove, axis=1, inplace=True)\n",
        "```\n",
        "\n",
        "* `list_of_features_to_remove` is, you guessed it, the list of features we want to remove!\n",
        "* `axis=1` lets Pandas know we want to drop columns, not rows, from our DataFrame (axis=0 is used for computations along rows!) \n",
        "* `inplace=True` lets us drop the columns right here in our DataFrame, instead of returning a new DataFrame that we could store in a new variable"
      ]
    },
    {
      "cell_type": "code",
      "execution_count": null,
      "metadata": {
        "id": "8nsFMXWCiyFF"
      },
      "outputs": [],
      "source": [
        "features_to_remove = ['address','attributes','business_id','categories','city','hours','is_open','latitude','longitude','name','neighborhood','postal_code','state','time']\n"
      ]
    },
    {
      "cell_type": "markdown",
      "metadata": {
        "id": "pXSCecBviyFG"
      },
      "source": [
        "Now we just have to check our data to make sure we don't have any missing values, or `NaN`s, which will prevent the Linear Regression model from running correctly. To do this we can use the statement `df.isna().any()`. This will check all of our columns and return `True` if there are any missing values or `NaN`s, or `False` if there are no missing values. Check if `df` is missing any values."
      ]
    },
    {
      "cell_type": "code",
      "execution_count": null,
      "metadata": {
        "ExecuteTime": {
          "end_time": "2018-09-14T14:51:24.649109Z",
          "start_time": "2018-09-14T14:51:24.581948Z"
        },
        "id": "4UETOSXQiyFG"
      },
      "outputs": [],
      "source": [
        ""
      ]
    },
    {
      "cell_type": "markdown",
      "metadata": {
        "id": "ABrudI5LiyFG"
      },
      "source": [
        "As you can see, there are a few columns with missing values. Since our dataset has no information recorded for some businesses in these columns, we will assume the Yelp pages did not display these features. For example, if there is a `NaN` value for `number_pics`, it means that the associated business did not have any pictures posted on its Yelp page. Thus we can replace all of our `NaN`s with `0`s. To do this we can use the `.fillna()` method, which takes a dictionary as shown below:\n",
        "\n",
        "```python\n",
        "df.fillna({'column_1':val_to_replace_na,\n",
        "           'column_2':val_to_replace_na,\n",
        "           'column_3':val_to_replace_na},\n",
        "          inplace=True)\n",
        "```\n",
        "\n",
        "* `column_1`, `column_2`, and `column_3` are the columns with missing values that we want to fill. We can include as many columns as we like in the dictionary that is passed to `.fill_na()`\n",
        "* `val_to_replace_na` is the value that will replace the missing values, or `NaN`s\n",
        "* `inplace=True` since we want to perform our changes in place and not return a new DataFrame\n",
        "\n",
        "Fill the missing values in `df` with `0`. Afterwards, confirm the missing values have been filled with `df.isna().any()`."
      ]
    },
    {
      "cell_type": "code",
      "execution_count": null,
      "metadata": {
        "ExecuteTime": {
          "end_time": "2018-09-14T14:51:24.661609Z",
          "start_time": "2018-09-14T14:51:24.650866Z"
        },
        "id": "4M3pU7vxiyFH"
      },
      "outputs": [],
      "source": [
        ""
      ]
    },
    {
      "cell_type": "markdown",
      "metadata": {
        "id": "3i0I-TH-iyFH"
      },
      "source": [
        "## Exploratory Analysis\n",
        "\n",
        "Now that our data is all together, let's investigate some of the different features to see what might correlate most with our dependent variable, the Yelp rating (called `stars` in our DataFrame). The features with the best correlations could prove to be the most helpful for our Linear Regression model! Pandas DataFrames have a really helpful method, `.corr()`, that allows us to see the correlation coefficients for each pair of our different features. Remember, a correlation of `0` indicates that two features have no linear relationship, a correlation coefficient of `1` indicates two features have a perfect positive linear relationship, and a correlation coefficient of `-1` indicates two features have a perfect negative linear relationship. Call `.corr()` on `df`. You'll see that `number_funny_votes` has a correlation coefficient of `0.001320` with respect to `stars`, our Yelp rating. This is a very weak correlation. What features best correlate, both positively and negatively, with Yelp rating?"
      ]
    },
    {
      "cell_type": "code",
      "execution_count": null,
      "metadata": {
        "ExecuteTime": {
          "end_time": "2018-09-14T14:51:24.968871Z",
          "start_time": "2018-09-14T14:51:24.725501Z"
        },
        "scrolled": true,
        "id": "BClwmz6ziyFH"
      },
      "outputs": [],
      "source": [
        ""
      ]
    },
    {
      "cell_type": "markdown",
      "metadata": {
        "id": "orCUUV4RiyFH"
      },
      "source": [
        "To further visualize these relationships, we can plot certain features against our dependent variable, the Yelp rating. In the cell below we have provided the code to import Matplotlib. We can use Matplotlib's `.scatter()` method with the below syntax to plot what these correlations look like:\n",
        "\n",
        "```python\n",
        "plt.scatter(x_values_to_plot, y_values_to_plot, alpha=blending_val)\n",
        "```\n",
        "\n",
        "* `x_values_to_plot` are the values to be plotted along the x-axis\n",
        "* `y_values_to_plot` are the values to be plotted along the y-axis\n",
        "* `alpha=blending_val` is the blending value, or how transparent (0) or opaque (1) a plotted point is. This will help us distinguish areas of the plot with high point densities and low point densities\n",
        "\n",
        "Plot the three features that correlate most with Yelp rating (`average_review_sentiment`, `average_review_length`, `average_review_age`) against `stars`, our Yelp rating. Then plot a lowly correlating feature, such as `number_funny_votes`, against `stars`.\n",
        "\n",
        ">What is `average_review_sentiment`, you ask? `average_review_sentiment` is the average sentiment score for all reviews on a business' Yelp page. The sentiment score for a review was calculated using the sentiment analysis tool [VADER](https://github.com/cjhutto/vaderSentiment). VADER uses a labeled set of positive and negative words, along with codified rules of grammar, to estimate how positive or negative a statement is. Scores range from `-1`, most negative, to `+1`, most positive, with a score of `0` indicating a neutral statement. While not perfect, VADER does a good job at guessing the sentiment of text data!\n",
        "\n",
        "What kind of relationships do you see from the plots? Do you think these variables are good or bad features for our Yelp rating prediction model?"
      ]
    },
    {
      "cell_type": "code",
      "execution_count": null,
      "metadata": {
        "id": "AkA6DFbciyFH"
      },
      "outputs": [],
      "source": [
        "from matplotlib import pyplot as plt\n",
        "\n",
        "# plot average_review_sentiment against stars here\n"
      ]
    },
    {
      "cell_type": "code",
      "execution_count": null,
      "metadata": {
        "id": "OETOjTfKiyFI"
      },
      "outputs": [],
      "source": [
        "# plot average_review_length against stars here\n"
      ]
    },
    {
      "cell_type": "code",
      "execution_count": null,
      "metadata": {
        "id": "CtwIwXr5iyFI"
      },
      "outputs": [],
      "source": [
        "# plot average_review_age against stars here\n"
      ]
    },
    {
      "cell_type": "code",
      "execution_count": null,
      "metadata": {
        "id": "JDWV8SpciyFI"
      },
      "outputs": [],
      "source": [
        "# plot number_funny_votes against stars here\n"
      ]
    },
    {
      "cell_type": "markdown",
      "metadata": {
        "id": "sdHhDIKOiyFI"
      },
      "source": [
        "Why do you think `average_review_sentiment` correlates so well with Yelp rating?"
      ]
    },
    {
      "cell_type": "markdown",
      "metadata": {
        "id": "XssMhiEKiyFJ"
      },
      "source": [
        "## Data Selection\n",
        "\n",
        "In order to put our data into a Linear Regression model, we need to separate out our features to model on and the Yelp ratings. From our correlation analysis we saw that the three features with the strongest correlations to Yelp rating are `average_review_sentiment`, `average_review_length`, and `average_review_age`. Since we want to dig a little deeper than `average_review_sentiment`, which understandably has a very high correlation with Yelp rating, let's choose to create our first model with `average_review_length` and `average_review_age` as features.\n",
        "\n",
        "Pandas lets us select one column of a DataFrame with the following syntax:\n",
        "\n",
        "```python\n",
        "subset_of_data = df['feature_to_select']\n",
        "```\n",
        "Pandas also lets us select multiple columns from a DataFrame with this syntax:\n",
        "\n",
        "```python\n",
        "subset_of_data = df[list_of_features_to_select]\n",
        "```\n",
        "Create a new DataFrame `features` that contains the columns we want to model on: `average_review_length` and `average_review_age`. Then create another DataFrame `ratings` that stores the value we want to predict, Yelp rating, or `stars` in `df`."
      ]
    },
    {
      "cell_type": "code",
      "execution_count": null,
      "metadata": {
        "ExecuteTime": {
          "end_time": "2018-09-14T14:51:57.953014Z",
          "start_time": "2018-09-14T14:51:57.945658Z"
        },
        "id": "FreoZZAZiyFJ"
      },
      "outputs": [],
      "source": [
        ""
      ]
    },
    {
      "cell_type": "markdown",
      "metadata": {
        "id": "wH3JmM4hiyFJ"
      },
      "source": [
        "## Split the Data into Training and Testing Sets\n",
        "\n",
        "We are just about ready to model! But first, we need to break our data into a training set and a test set so we can evaluate how well our model performs. We'll use scikit-learn's `train_test_split` function to do this split, which is provided in the cell below. This function takes two required parameters: the data, or our features, followed by our dependent variable, in our case the Yelp rating. Set the optional parameter `test_size` to be `0.2`. Finally, set the optional parameter `random_state` to `1`. This will make it so your data is split in the same way as the data in our solution code. \n",
        "\n",
        "Remember, this function returns 4 items in this order:\n",
        "1. The training data (features), which we can assign to `X_train`\n",
        "2. The testing data (features), which we can assign to `X_test`\n",
        "3. The training dependent variable (Yelp rating), which we can assign to `y_train`\n",
        "4. The testing dependent variable (Yelp rating), which we can assign to `y_test`"
      ]
    },
    {
      "cell_type": "code",
      "execution_count": null,
      "metadata": {
        "id": "0XDXoddjiyFJ"
      },
      "outputs": [],
      "source": [
        "from sklearn.model_selection import train_test_split\n",
        "\n"
      ]
    },
    {
      "cell_type": "markdown",
      "metadata": {
        "id": "5N8ER5uniyFJ"
      },
      "source": [
        "## Create and Train the Model\n",
        "\n",
        "Now that our data is split into training and testing sets, we can finally model! In the cell below we have provided the code to import `LinearRegression` from scikit-learn's `linear_model` module. Create a new `LinearRegression` object named model. The `.fit()` method will fit our Linear Regression model to our training data and calculate the coefficients for our features. Call the `.fit()` method on `model` with `X_train` and `y_train` as parameters. Just like that our model has now been trained on our training data!"
      ]
    },
    {
      "cell_type": "code",
      "execution_count": null,
      "metadata": {
        "id": "h1MroU9QiyFK"
      },
      "outputs": [],
      "source": [
        "from sklearn.linear_model import LinearRegression\n",
        "\n"
      ]
    },
    {
      "cell_type": "markdown",
      "metadata": {
        "id": "t4gklU1riyFK"
      },
      "source": [
        "## Evaluate and Understand the Model\n",
        "\n",
        "Now we can evaluate our model in a variety of ways. The first way will be by using the `.score()` method, which provides the R^2 value for our model. Remember, R^2 is the coefficient of determination, or a measure of how much of the variance in our dependent variable, the predicted Yelp rating, is explained by our independent variables, our feature data. R^2 values range from `0` to `1`, with `0` indicating that the created model does not fit our data at all, and with `1` indicating the model perfectly fits our feature data. Call `.score()` on our model with `X_train` and `y_train` as parameters to calculate our training R^2 score. Then call `.score()` again on model with `X_test` and `y_test` as parameters to calculate R^2 for our testing data. What do these R^2 values say about our model? Do you think these features alone are able to effectively predict Yelp ratings?"
      ]
    },
    {
      "cell_type": "code",
      "execution_count": null,
      "metadata": {
        "ExecuteTime": {
          "end_time": "2018-09-14T14:51:58.631827Z",
          "start_time": "2018-09-14T14:51:58.619225Z"
        },
        "id": "kF-E3HUQiyFK"
      },
      "outputs": [],
      "source": [
        ""
      ]
    },
    {
      "cell_type": "markdown",
      "metadata": {
        "id": "11PH8L7ViyFK"
      },
      "source": [
        "After all that hard work, we can finally take a look at the coefficients on our different features! The model has an attribute `.coef_` which is an array of the feature coefficients determined by fitting our model to the training data. To make it easier for you to see which feature corresponds to which coefficient, we have provided some code in the cell that `zip`s together a list of our features with the coefficients and sorts them in descending order from most predictive to least predictive."
      ]
    },
    {
      "cell_type": "code",
      "execution_count": null,
      "metadata": {
        "id": "Ye4N2gfHiyFK"
      },
      "outputs": [],
      "source": [
        "sorted(list(zip(['average_review_length','average_review_age'],model.coef_)),key = lambda x: abs(x[1]),reverse=True)"
      ]
    },
    {
      "cell_type": "markdown",
      "metadata": {
        "id": "8U7XHQf3iyFK"
      },
      "source": [
        "Lastly we can calculate the predicted Yelp ratings for our testing data and compare them to their actual Yelp ratings! Our model has a `.predict()` method which uses the model's coefficients to calculate the predicted Yelp rating. Call `.predict()` on `X_test` and assign the values to `y_predicted`. Use Matplotlib to plot `y_test` vs `y_predicted`. For a perfect linear regression model we would expect to see the data plotted along the line `y = x`, indicating homoscedasticity. Is this the case? If not, why not? Would you call this model heteroscedastic or homoscedastic?"
      ]
    },
    {
      "cell_type": "code",
      "execution_count": null,
      "metadata": {
        "ExecuteTime": {
          "end_time": "2018-09-14T14:51:58.656842Z",
          "start_time": "2018-09-14T14:51:58.653453Z"
        },
        "id": "kjdAAjbGiyFL"
      },
      "outputs": [],
      "source": [
        ""
      ]
    },
    {
      "cell_type": "markdown",
      "metadata": {
        "id": "bXB0Bv9_iyFL"
      },
      "source": [
        "## Define Different Subsets of Data\n",
        "\n",
        "After evaluating the first model, you can see that `average_review_length` and `average_review_age` alone are not the best predictors for Yelp rating. Let's go do some more modeling with different subsets of features and see if we can achieve a more accurate model! In the cells below we have provided different lists of subsets of features that we will model with and evaluate. What other subsets of features would you want to test? Why do you think those feature sets are more predictive of Yelp rating than others? Create at least one more subset of features that you want to predict Yelp ratings from."
      ]
    },
    {
      "cell_type": "code",
      "execution_count": null,
      "metadata": {
        "id": "H1PdbdTyiyFL"
      },
      "outputs": [],
      "source": [
        "# subset of only average review sentiment\n",
        "sentiment = ['average_review_sentiment']"
      ]
    },
    {
      "cell_type": "code",
      "execution_count": null,
      "metadata": {
        "id": "NHsZml2ciyFL"
      },
      "outputs": [],
      "source": [
        "# subset of all features that have a response range [0,1]\n",
        "binary_features = ['alcohol?','has_bike_parking','takes_credit_cards','good_for_kids','take_reservations','has_wifi']"
      ]
    },
    {
      "cell_type": "code",
      "execution_count": null,
      "metadata": {
        "id": "tH0YbVDwiyFL"
      },
      "outputs": [],
      "source": [
        "# subset of all features that vary on a greater range than [0,1]\n",
        "numeric_features = ['review_count','price_range','average_caption_length','number_pics','average_review_age','average_review_length','average_review_sentiment','number_funny_votes','number_cool_votes','number_useful_votes','average_tip_length','number_tips','average_number_friends','average_days_on_yelp','average_number_fans','average_review_count','average_number_years_elite','weekday_checkins','weekend_checkins']"
      ]
    },
    {
      "cell_type": "code",
      "execution_count": null,
      "metadata": {
        "id": "uRX6EH_YiyFL"
      },
      "outputs": [],
      "source": [
        "# all features\n",
        "all_features = binary_features + numeric_features"
      ]
    },
    {
      "cell_type": "code",
      "execution_count": null,
      "metadata": {
        "id": "9fBxc5aDiyFM"
      },
      "outputs": [],
      "source": [
        "# add your own feature subset here\n",
        "feature_subset = "
      ]
    },
    {
      "cell_type": "markdown",
      "metadata": {
        "id": "TAT8zuo9iyFM"
      },
      "source": [
        "## Further Modeling"
      ]
    },
    {
      "cell_type": "markdown",
      "metadata": {
        "id": "fdJCboc8iyFM"
      },
      "source": [
        "Now that we have lists of different feature subsets, we can create new models from them. In order to more easily compare the performance of these new models, we have created a function for you below called `model_these_features()`. This function replicates the model building process you just completed with our first model! Take some time to review how the function works, analyzing it line by line. Fill in the empty comments with an explanation of the task the code beneath it is performing."
      ]
    },
    {
      "cell_type": "code",
      "execution_count": null,
      "metadata": {
        "id": "613OV8DDiyFM"
      },
      "outputs": [],
      "source": [
        "import numpy as np\n",
        "\n",
        "# take a list of features to model as a parameter\n",
        "def model_these_features(feature_list):\n",
        "    \n",
        "    # \n",
        "    ratings = df.loc[:,'stars']\n",
        "    features = df.loc[:,feature_list]\n",
        "    \n",
        "    # \n",
        "    X_train, X_test, y_train, y_test = train_test_split(features, ratings, test_size = 0.2, random_state = 1)\n",
        "    \n",
        "    # don't worry too much about these lines, just know that they allow the model to work when\n",
        "    # we model on just one feature instead of multiple features. Trust us on this one :)\n",
        "    if len(X_train.shape) < 2:\n",
        "        X_train = np.array(X_train).reshape(-1,1)\n",
        "        X_test = np.array(X_test).reshape(-1,1)\n",
        "    \n",
        "    # \n",
        "    model = LinearRegression()\n",
        "    model.fit(X_train,y_train)\n",
        "    \n",
        "    # \n",
        "    print('Train Score:', model.score(X_train,y_train))\n",
        "    print('Test Score:', model.score(X_test,y_test))\n",
        "    \n",
        "    # print the model features and their corresponding coefficients, from most predictive to least predictive\n",
        "    print(sorted(list(zip(feature_list,model.coef_)),key = lambda x: abs(x[1]),reverse=True))\n",
        "    \n",
        "    # \n",
        "    y_predicted = model.predict(X_test)\n",
        "    \n",
        "    # \n",
        "    plt.scatter(y_test,y_predicted)\n",
        "    plt.xlabel('Yelp Rating')\n",
        "    plt.ylabel('Predicted Yelp Rating')\n",
        "    plt.ylim(1,5)\n",
        "    plt.show()"
      ]
    },
    {
      "cell_type": "markdown",
      "metadata": {
        "id": "mJ3TwmdDiyFM"
      },
      "source": [
        "Once you feel comfortable with the steps of the function, run models on the following subsets of data using `model_these_features()`:\n",
        "* `sentiment`: only `average_review_sentiment`\n",
        "* `binary_features`: all features that have a response range [0,1]\n",
        "* `numeric_features`: all features that vary on a greater range than [0,1]\n",
        "* `all_features`: all features\n",
        "* `feature_subset`: your own feature subset\n",
        "\n",
        "How does changing the feature sets affect the model's R^2 value? Which features are most important to predicting Yelp rating in the different models? Which models appear more or less homoscedastic?"
      ]
    },
    {
      "cell_type": "code",
      "execution_count": null,
      "metadata": {
        "id": "76Yp-0neiyFM"
      },
      "outputs": [],
      "source": [
        "# create a model on sentiment here\n"
      ]
    },
    {
      "cell_type": "code",
      "execution_count": null,
      "metadata": {
        "id": "jmx5sqJ4iyFN"
      },
      "outputs": [],
      "source": [
        "# create a model on all binary features here\n"
      ]
    },
    {
      "cell_type": "code",
      "execution_count": null,
      "metadata": {
        "id": "PJVyRd6jiyFN"
      },
      "outputs": [],
      "source": [
        "# create a model on all numeric features here\n"
      ]
    },
    {
      "cell_type": "code",
      "execution_count": null,
      "metadata": {
        "id": "ZOsgiy8TiyFN"
      },
      "outputs": [],
      "source": [
        "# create a model on all features here\n"
      ]
    },
    {
      "cell_type": "code",
      "execution_count": null,
      "metadata": {
        "id": "llfTcDM-iyFN"
      },
      "outputs": [],
      "source": [
        "# create a model on your feature subset here\n"
      ]
    },
    {
      "cell_type": "markdown",
      "metadata": {
        "id": "kFJ8zZZCiyFN"
      },
      "source": [
        "## Danielle's Delicious Delicacies' Debut\n",
        "\n",
        "You've loaded the data, cleaned it, modeled it, and evaluated it. You're tired, but glowing with pride after all the hard work. You close your eyes and can clearly see opening day of Danielle's Delicious Delicacies with a line out the door. But what will your Yelp rating be? Let's use our model to make a prediction.\n",
        "\n",
        "Our best model was the model using all features, so we'll work with this model again. In the cell below print `all_features` to get a reminder of what features we are working with."
      ]
    },
    {
      "cell_type": "code",
      "execution_count": null,
      "metadata": {
        "ExecuteTime": {
          "end_time": "2018-09-14T14:52:25.658575Z",
          "start_time": "2018-09-14T14:52:25.654756Z"
        },
        "id": "EXV8WaMNiyFO"
      },
      "outputs": [],
      "source": [
        ""
      ]
    },
    {
      "cell_type": "markdown",
      "metadata": {
        "id": "2mICK8x9iyFO"
      },
      "source": [
        "Run the cell below to grab all the features and retrain our model on them."
      ]
    },
    {
      "cell_type": "code",
      "execution_count": null,
      "metadata": {
        "id": "EmhITKSciyFO"
      },
      "outputs": [],
      "source": [
        "features = df.loc[:,all_features]\n",
        "ratings = df.loc[:,'stars']\n",
        "X_train, X_test, y_train, y_test = train_test_split(features, ratings, test_size = 0.2, random_state = 1)\n",
        "model = LinearRegression()\n",
        "model.fit(X_train,y_train)"
      ]
    },
    {
      "cell_type": "markdown",
      "metadata": {
        "id": "IFyb1H9JiyFO"
      },
      "source": [
        "To give you some perspective on the restaurants already out there, we have provided the mean, minimum, and maximum values for each feature below. Will Danielle's Delicious Delicacies be just another average restaurant, or will it be a 5 star behemoth amongst the masses?"
      ]
    },
    {
      "cell_type": "code",
      "execution_count": null,
      "metadata": {
        "id": "rYau_IbhiyFO"
      },
      "outputs": [],
      "source": [
        "pd.DataFrame(list(zip(features.columns,features.describe().loc['mean'],features.describe().loc['min'],features.describe().loc['max'])),columns=['Feature','Mean','Min','Max'])"
      ]
    },
    {
      "cell_type": "markdown",
      "metadata": {
        "id": "V4lTXfBfiyFO"
      },
      "source": [
        "Based on your plans for the restaurant, how you expect your customers to post on your Yelp page, and the values above, fill in the blanks in the NumPy array below with your desired values. The first blank corresponds with the feature at `index=0` in the DataFrame above, `alcohol?`, and the last blank corresponds to the feature at ``index=24``, `weekend_checkins`. Make sure to enter either `0` or `1` for all binary features, and if you aren't sure of what value to put for a feature, select the mean from the DataFrame above. After you enter the values, run the prediction cell below to receive your Yelp rating! How is Danielle's Delicious Delicacies debut going to be?"
      ]
    },
    {
      "cell_type": "code",
      "execution_count": null,
      "metadata": {
        "ExecuteTime": {
          "end_time": "2018-09-13T18:35:02.243266Z",
          "start_time": "2018-09-13T18:34:39.238Z"
        },
        "id": "sJj-bcN1iyFO"
      },
      "outputs": [],
      "source": [
        "danielles_delicious_delicacies = np.array([_,_,_,_,_,_,_,_,_,_,_,_,_,_,_,_,_,_,_,_,_,_,_,_,_]).reshape(1,-1)"
      ]
    },
    {
      "cell_type": "code",
      "execution_count": null,
      "metadata": {
        "ExecuteTime": {
          "end_time": "2018-09-13T18:35:02.244175Z",
          "start_time": "2018-09-13T18:34:39.239Z"
        },
        "id": "6WrWdty6iyFP"
      },
      "outputs": [],
      "source": [
        "model.predict(danielles_delicious_delicacies)"
      ]
    },
    {
      "cell_type": "markdown",
      "metadata": {
        "id": "Cm-usIbDiyFP"
      },
      "source": [
        "## Next Steps\n",
        "\n",
        "You have successfully built a linear regression model that predicts a restaurant's Yelp rating! As you have seen, it can be pretty hard to predict a rating like this even when we have a plethora of data. What other questions come to your mind when you see the data we have? What insights do you think could come from a different kind of analysis? Here are some ideas to ponder:\n",
        "\n",
        "* Can we predict the cuisine of a restaurant based on the users that review it?\n",
        "* What restaurants are similar to each other in ways besides cuisine?\n",
        "* Are there different restaurant vibes, and what kind of restaurants fit these conceptions?\n",
        "* How does social media status affect a restaurant's credibility and visibility?\n",
        "\n",
        "As you progress further into the field of data science, you will be able to create models that address these questions and many more! But in the meantime, get back to working on that burgeoning restaurant business plan."
      ]
    }
  ],
  "metadata": {
    "kernelspec": {
      "display_name": "Python 3",
      "language": "python",
      "name": "python3"
    },
    "language_info": {
      "codemirror_mode": {
        "name": "ipython",
        "version": 3
      },
      "file_extension": ".py",
      "mimetype": "text/x-python",
      "name": "python",
      "nbconvert_exporter": "python",
      "pygments_lexer": "ipython3",
      "version": "3.6.5"
    },
    "colab": {
      "name": "yelp_regression.ipynb",
      "provenance": [],
      "collapsed_sections": [
        "7jG_UEEViyFE",
        "_jt5awSEiyFF",
        "3i0I-TH-iyFH",
        "XssMhiEKiyFJ",
        "wH3JmM4hiyFJ",
        "5N8ER5uniyFJ",
        "t4gklU1riyFK",
        "bXB0Bv9_iyFL",
        "TAT8zuo9iyFM",
        "kFJ8zZZCiyFN",
        "Cm-usIbDiyFP"
      ]
    }
  },
  "nbformat": 4,
  "nbformat_minor": 0
}